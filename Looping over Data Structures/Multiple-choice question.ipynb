{
 "cells": [
  {
   "cell_type": "markdown",
   "id": "c33989d5-072e-46d2-a970-862cb6005a5a",
   "metadata": {},
   "source": [
    "Write a Python program to simulate an MCQ (multiple-choice question) quiz comprising 10 questions. \n",
    "You can frame your own questions. Every question will have four options, and exactly one option will be the correct answer.\n",
    "\n",
    "To answer a question, the user needs to enter the number corresponding to the chosen option. Any entry apart from 1, 2, 3, or 4 will lead to the question getting marked as zero. \n",
    "Every correct answer will carry two marks. Print the final score for the user                                                      "
   ]
  },
  {
   "cell_type": "markdown",
   "id": "0a793574-f13a-4ef2-a6d7-efa47081cfb7",
   "metadata": {},
   "source": [
    "Q= {\"Number of Continents on Earth\":\"1:Seven 2:Four 3:Five 4:Six\", \n",
    "    \"Which country successfully landed a man on moon\":\"1:USA 2:Germany 3:France 4:England\", \n",
    "    \"Which country is not present in the continent of North America\":\"1:Mexico 2:USA 3:Cannada 4:Brazil\",\n",
    "    \"Which is the American National Bird\":\"1:Parrot 2:Crane 3:Eagle 4:Swan\",  \n",
    "    \"Which country shares the longest border with USA\": \"1:Mexico 2: Brazil 3:Cannada 4:Argentina\",  \n",
    "    \"Which is the financial capital of USA\": \"1:Sanfrancisco 2:Boston 3:Los Angeles 4:NYC\",\n",
    "    \"Which of the following space agencies belongs to the USA\": \"1:BNSC 2:ISRO 3: DLR 4:NASA\",\n",
    "    \"Which is the second most spoken language in USA\": \"1:English 2: Spanish 3:Mandarin 4:Italian\",\n",
    "    \"Which is the capital city of USA\": \"1: NYC 2:Washington DC 3:Austin 4: San Jose\", \n",
    "    \"Mt Rushmore has the sclupture of\": \"1:Former US Presidents 2:Hollywood stars 3:Military Personel 4:Scientists\" }"
   ]
  },
  {
   "cell_type": "markdown",
   "id": "96f06bda-e154-48e8-a858-1343294ccddb",
   "metadata": {},
   "source": [
    "## Task 1\n",
    "-Implement negative marking for incorrect answers."
   ]
  },
  {
   "cell_type": "code",
   "execution_count": 33,
   "id": "5a7034d5-9372-4bef-b988-ee3d145e8979",
   "metadata": {},
   "outputs": [
    {
     "name": "stdout",
     "output_type": "stream",
     "text": [
      "Number of Continents on Earth\n",
      "1:Seven 2:Four 3:Five 4:Six\n",
      "1\n",
      "Number of Continents on Earth ['1:Seven 2:Four 3:Five 4:Six', 1]\n",
      "Which country successfully landed a man on moon\n",
      "1:USA 2:Germany 3:France 4:England\n",
      "1\n",
      "Which country successfully landed a man on moon ['1:USA 2:Germany 3:France 4:England', 1]\n",
      "Which country is not present in the continent of North America\n",
      "1:Mexico 2:USA 3:Cannada 4:Brazil\n",
      "4\n",
      "Which country is not present in the continent of North America ['1:Mexico 2:USA 3:Cannada 4:Brazil', 4]\n",
      "Which is the American National Bird\n",
      "1:Parrot 2:Crane 3:Eagle 4:Swan\n",
      "3\n",
      "Which is the American National Bird ['1:Parrot 2:Crane 3:Eagle 4:Swan', 3]\n",
      "Which country shares the longest border with USA\n",
      "1:Mexico 2: Brazil 3:Cannada 4:Argentina\n",
      "3\n",
      "Which country shares the longest border with USA ['1:Mexico 2: Brazil 3:Cannada 4:Argentina', 3]\n",
      "Which is the financial capital of USA\n",
      "1:Sanfrancisco 2:Boston 3:Los Angeles 4:NYC\n",
      "4\n",
      "Which is the financial capital of USA ['1:Sanfrancisco 2:Boston 3:Los Angeles 4:NYC', 4]\n",
      "Which of the following space agencies belongs to the USA\n",
      "1:BNSC 2:ISRO 3: DLR 4:NASA\n",
      "4\n",
      "Which of the following space agencies belongs to the USA ['1:BNSC 2:ISRO 3: DLR 4:NASA', 4]\n",
      "Which is the second most spoken language in USA\n",
      "1:English 2: Spanish 3:Mandarin 4:Italian\n",
      "2\n",
      "Which is the second most spoken language in USA ['1:English 2: Spanish 3:Mandarin 4:Italian', 2]\n",
      "Which is the capital city of USA\n",
      "1: NYC 2:Washington DC 3:Austin 4: San Jose\n",
      "2\n",
      "Which is the capital city of USA ['1: NYC 2:Washington DC 3:Austin 4: San Jose', 2]\n",
      "Mt Rushmore has the sclupture of\n",
      "1:Former US Presidents 2:Hollywood stars 3:Military Personel 4:Scientists\n",
      "1\n",
      "Mt Rushmore has the sclupture of ['1:Former US Presidents 2:Hollywood stars 3:Military Personel 4:Scientists', 1]\n"
     ]
    }
   ],
   "source": [
    "for q in Q:\n",
    "    print(q)\n",
    "    print(Q[q][0])\n",
    "    print(Q[q][1])\n",
    "    print(q,Q[q])"
   ]
  },
  {
   "cell_type": "code",
   "execution_count": 39,
   "id": "f44e7102-4c96-4387-8548-8e1fe62942bb",
   "metadata": {},
   "outputs": [
    {
     "data": {
      "text/plain": [
       "{'Number of Continents on Earth': ['1:Seven 2:Four 3:Five 4:Six', 1],\n",
       " 'Which country successfully landed a man on moon': ['1:USA 2:Germany 3:France 4:England',\n",
       "  1],\n",
       " 'Which country is not present in the continent of North America': ['1:Mexico 2:USA 3:Cannada 4:Brazil',\n",
       "  4],\n",
       " 'Which is the American National Bird': ['1:Parrot 2:Crane 3:Eagle 4:Swan', 3],\n",
       " 'Which country shares the longest border with USA': ['1:Mexico 2: Brazil 3:Cannada 4:Argentina',\n",
       "  3],\n",
       " 'Which is the financial capital of USA': ['1:Sanfrancisco 2:Boston 3:Los Angeles 4:NYC',\n",
       "  4],\n",
       " 'Which of the following space agencies belongs to the USA': ['1:BNSC 2:ISRO 3: DLR 4:NASA',\n",
       "  4],\n",
       " 'Which is the second most spoken language in USA': ['1:English 2: Spanish 3:Mandarin 4:Italian',\n",
       "  2],\n",
       " 'Which is the capital city of USA': ['1: NYC 2:Washington DC 3:Austin 4: San Jose',\n",
       "  2],\n",
       " 'Mt Rushmore has the sclupture of': ['1:Former US Presidents 2:Hollywood stars 3:Military Personel 4:Scientists',\n",
       "  1]}"
      ]
     },
     "execution_count": 39,
     "metadata": {},
     "output_type": "execute_result"
    }
   ],
   "source": [
    "CA=[1,1,4,3,3,4,4,2,2,1]\n",
    "\n",
    "j=0\n",
    "for q in Q:\n",
    "    Q[q]=[Q[q],CA[j]]\n",
    "    j=j+1\n",
    "\n",
    "Q"
   ]
  },
  {
   "cell_type": "code",
   "execution_count": 40,
   "id": "20239660-1134-4b8a-a7be-cd040848904f",
   "metadata": {},
   "outputs": [
    {
     "name": "stdout",
     "output_type": "stream",
     "text": [
      "Number of Continents on Earth 1:Seven 2:Four 3:Five 4:Six 1\n",
      "Which country successfully landed a man on moon 1:USA 2:Germany 3:France 4:England 1\n",
      "Which country is not present in the continent of North America 1:Mexico 2:USA 3:Cannada 4:Brazil 4\n",
      "Which is the American National Bird 1:Parrot 2:Crane 3:Eagle 4:Swan 3\n",
      "Which country shares the longest border with USA 1:Mexico 2: Brazil 3:Cannada 4:Argentina 3\n",
      "Which is the financial capital of USA 1:Sanfrancisco 2:Boston 3:Los Angeles 4:NYC 4\n",
      "Which of the following space agencies belongs to the USA 1:BNSC 2:ISRO 3: DLR 4:NASA 4\n",
      "Which is the second most spoken language in USA 1:English 2: Spanish 3:Mandarin 4:Italian 2\n",
      "Which is the capital city of USA 1: NYC 2:Washington DC 3:Austin 4: San Jose 2\n",
      "Mt Rushmore has the sclupture of 1:Former US Presidents 2:Hollywood stars 3:Military Personel 4:Scientists 1\n"
     ]
    }
   ],
   "source": [
    "for q in Q:\n",
    "    print(q,Q[q][0],Q[q][1])"
   ]
  },
  {
   "cell_type": "markdown",
   "id": "0130384b-7f2e-4331-b180-a497492241b9",
   "metadata": {},
   "source": [
    "### Task 2  and Task 3\n",
    "\n",
    "- Give the user a choice to skip the question. The score to a question that is skipped will be zero.\n",
    "\n",
    "- The program should not proceed unless an option (1, 2, 3, 4) is entered by the user or the question is skipped by the user.\r\n",
    "\r\n",
    "Note: The user does not have a choice of returning to the skipped questions."
   ]
  },
  {
   "cell_type": "code",
   "execution_count": 49,
   "id": "1aac0a75-9517-4e38-a2c2-39f02227338d",
   "metadata": {},
   "outputs": [
    {
     "name": "stdout",
     "output_type": "stream",
     "text": [
      "Question 1\n",
      "Number of Continents on Earth\n",
      "1:Seven 2:Four 3:Five 4:Six\n",
      "Enter S to skip to the next question, Answer will be marked zero for any other entry\n"
     ]
    },
    {
     "name": "stdin",
     "output_type": "stream",
     "text": [
      "Please enter the option between 1 and 4 or S to skip: 1\n"
     ]
    },
    {
     "name": "stdout",
     "output_type": "stream",
     "text": [
      "**************************************************\n",
      "Question 2\n",
      "Which country successfully landed a man on moon\n",
      "1:USA 2:Germany 3:France 4:England\n",
      "Enter S to skip to the next question, Answer will be marked zero for any other entry\n"
     ]
    },
    {
     "name": "stdin",
     "output_type": "stream",
     "text": [
      "Please enter the option between 1 and 4 or S to skip: 2\n"
     ]
    },
    {
     "name": "stdout",
     "output_type": "stream",
     "text": [
      "**************************************************\n",
      "Question 3\n",
      "Which country is not present in the continent of North America\n",
      "1:Mexico 2:USA 3:Cannada 4:Brazil\n",
      "Enter S to skip to the next question, Answer will be marked zero for any other entry\n"
     ]
    },
    {
     "name": "stdin",
     "output_type": "stream",
     "text": [
      "Please enter the option between 1 and 4 or S to skip: 3\n"
     ]
    },
    {
     "name": "stdout",
     "output_type": "stream",
     "text": [
      "**************************************************\n",
      "Question 4\n",
      "Which is the American National Bird\n",
      "1:Parrot 2:Crane 3:Eagle 4:Swan\n",
      "Enter S to skip to the next question, Answer will be marked zero for any other entry\n"
     ]
    },
    {
     "name": "stdin",
     "output_type": "stream",
     "text": [
      "Please enter the option between 1 and 4 or S to skip: 4\n"
     ]
    },
    {
     "name": "stdout",
     "output_type": "stream",
     "text": [
      "**************************************************\n",
      "Question 5\n",
      "Which country shares the longest border with USA\n",
      "1:Mexico 2: Brazil 3:Cannada 4:Argentina\n",
      "Enter S to skip to the next question, Answer will be marked zero for any other entry\n"
     ]
    },
    {
     "name": "stdin",
     "output_type": "stream",
     "text": [
      "Please enter the option between 1 and 4 or S to skip: skip\n",
      "Please enter the option between 1 and 4 or S to skip: 3\n"
     ]
    },
    {
     "name": "stdout",
     "output_type": "stream",
     "text": [
      "**************************************************\n",
      "Question 6\n",
      "Which is the financial capital of USA\n",
      "1:Sanfrancisco 2:Boston 3:Los Angeles 4:NYC\n",
      "Enter S to skip to the next question, Answer will be marked zero for any other entry\n"
     ]
    },
    {
     "name": "stdin",
     "output_type": "stream",
     "text": [
      "Please enter the option between 1 and 4 or S to skip: 2\n"
     ]
    },
    {
     "name": "stdout",
     "output_type": "stream",
     "text": [
      "**************************************************\n",
      "Question 7\n",
      "Which of the following space agencies belongs to the USA\n",
      "1:BNSC 2:ISRO 3: DLR 4:NASA\n",
      "Enter S to skip to the next question, Answer will be marked zero for any other entry\n"
     ]
    },
    {
     "name": "stdin",
     "output_type": "stream",
     "text": [
      "Please enter the option between 1 and 4 or S to skip: 1\n"
     ]
    },
    {
     "name": "stdout",
     "output_type": "stream",
     "text": [
      "**************************************************\n",
      "Question 8\n",
      "Which is the second most spoken language in USA\n",
      "1:English 2: Spanish 3:Mandarin 4:Italian\n",
      "Enter S to skip to the next question, Answer will be marked zero for any other entry\n"
     ]
    },
    {
     "name": "stdin",
     "output_type": "stream",
     "text": [
      "Please enter the option between 1 and 4 or S to skip: 2\n"
     ]
    },
    {
     "name": "stdout",
     "output_type": "stream",
     "text": [
      "**************************************************\n",
      "Question 9\n",
      "Which is the capital city of USA\n",
      "1: NYC 2:Washington DC 3:Austin 4: San Jose\n",
      "Enter S to skip to the next question, Answer will be marked zero for any other entry\n"
     ]
    },
    {
     "name": "stdin",
     "output_type": "stream",
     "text": [
      "Please enter the option between 1 and 4 or S to skip: 1\n"
     ]
    },
    {
     "name": "stdout",
     "output_type": "stream",
     "text": [
      "**************************************************\n",
      "Question 10\n",
      "Mt Rushmore has the sclupture of\n",
      "1:Former US Presidents 2:Hollywood stars 3:Military Personel 4:Scientists\n",
      "Enter S to skip to the next question, Answer will be marked zero for any other entry\n"
     ]
    },
    {
     "name": "stdin",
     "output_type": "stream",
     "text": [
      "Please enter the option between 1 and 4 or S to skip: 2\n"
     ]
    },
    {
     "name": "stdout",
     "output_type": "stream",
     "text": [
      "**************************************************\n",
      "total score is -1\n"
     ]
    }
   ],
   "source": [
    "#list of correct options in sequential order of the questions \n",
    "score=0 # all the users start with the score of 0 \n",
    "j=1\n",
    "\n",
    "for q in Q:\n",
    "    print('Question ' + str(j))\n",
    "    j = j + 1\n",
    "    print(q)\n",
    "    print(Q[q][0])\n",
    "\n",
    "    print(\"Enter S to skip to the next question, Answer will be marked zero for any other entry\")\n",
    "\n",
    "    ans = input(\"Please enter the option between 1 and 4 or S to skip:\")\n",
    "\n",
    "    while not(ans in ['1','2','3','4','S','s']): # check the validation of the user's response \n",
    "        ans = input(\"Please enter the option between 1 and 4 or S to skip:\")\n",
    "        \n",
    "    if (ans == 'S' or ans == 's'):\n",
    "       print(50*'*')\n",
    "       continue \n",
    "        \n",
    "    if(ans in ['1','2','3','4']): #find the score\n",
    "        a = int(ans) # a is the user's answer\n",
    "        if (a == Q[q][1]): # a is the user's answer== the correct answer\n",
    "            score = score + 2 # give the user 2 points for correct answer \n",
    "            print('you got it right!')\n",
    "        else:\n",
    "            score = score - 1 # cut 1 point for incorrect answer\n",
    "            print('sorry, you got it wrong')\n",
    "            \n",
    "    print(50*'*')\n",
    "\n",
    "print('total score is',score)\n"
   ]
  },
  {
   "cell_type": "code",
   "execution_count": 5,
   "id": "43ca4306-a0da-472e-8893-134a0ca7c5ae",
   "metadata": {},
   "outputs": [],
   "source": [
    "# another way to approach this "
   ]
  },
  {
   "cell_type": "code",
   "execution_count": null,
   "id": "4a352735-d048-4581-8435-cc9863ed3e68",
   "metadata": {},
   "outputs": [],
   "source": []
  },
  {
   "cell_type": "markdown",
   "id": "e2a0cd4c-1dd1-4225-897e-19a16065e592",
   "metadata": {},
   "source": [
    "### Task 1\n",
    "Implement negative marking for incorrect answers."
   ]
  },
  {
   "cell_type": "code",
   "execution_count": 5,
   "id": "bb32a0c5-eee7-4d86-8553-b695f23148a1",
   "metadata": {},
   "outputs": [],
   "source": [
    "Q= {\n",
    "    \"Which is the American National Bird?\": [\"A. Parrot\", \"B.Crane\", \"C.Eagle\", \"D.Swan\"],\n",
    "    \"Which country shares the longest border with USA?\": [\"A.Mexico\", \"B.Brazil\", \"C.Canada\", \"D.Argentina\"],\n",
    "    \"Which is the financial capital of USA?\": [\"A.San Francisco\", \"B.Boston\", \"C.Los Angeles\", \"D.NYC\"],\n",
    "    \"Which of the following space agencies belongs to the USA?\": [\"A.BNSC\", \"B.ISRO\", \"C.DLR\", \"D.NASA\"],\n",
    "    \"Which is the second most spoken language in USA?\": [\"A.English\", \"B.Spanish\", \"C.Mandarin\", \"D.Italian\"],\n",
    "    \"Number of Continents on Earth?\": [\"A.Seven\", \"B.Four\", \"C.Five\", \"D.Six\"],\n",
    "    \"Which country successfully landed a man on the moon?\": [\"A. USA\", \"B.Germany\", \"C.France\", \"D.England\"],\n",
    "    \"Which country is not present in the continent of North America?\": [\"A.Mexico\", \"B.USA\", \"C.Canada\", \"D.Brazil\"],\n",
    "    \"What is the capital of France?\": [\"A.Paris\",\"B. London\", \"C. Rome\", \"D. Berlin\"],\n",
    "    \"What is the largest organ in the human body?\": [\"Skin\",\"Heart\",\"Brain\",\"Liver\"]}\n",
    "\n",
    "#The above dictionary Q contains the questions and their corresponding answer options.\n",
    "\n",
    "\n",
    "A= list(Q.values()) \n",
    "CA = [\"C\",\"C\",\"D\",\"D\",\"B\",\"A\",\"A\",\"D\",\"A\",\"A\"] # List of correct options"
   ]
  },
  {
   "cell_type": "code",
   "execution_count": 6,
   "id": "41e587c9-7c2c-44c3-85bb-c8d28360d623",
   "metadata": {},
   "outputs": [
    {
     "name": "stdout",
     "output_type": "stream",
     "text": [
      "C\n",
      "['A. Parrot', 'B.Crane', 'C.Eagle', 'D.Swan']\n",
      "\n",
      "\n"
     ]
    },
    {
     "name": "stdin",
     "output_type": "stream",
     "text": [
      "Enter the option between A, B, C and D: d\n"
     ]
    },
    {
     "name": "stdout",
     "output_type": "stream",
     "text": [
      "Incorrect answer!\n",
      "C\n",
      "['A.Mexico', 'B.Brazil', 'C.Canada', 'D.Argentina']\n",
      "\n",
      "\n"
     ]
    },
    {
     "name": "stdin",
     "output_type": "stream",
     "text": [
      "Enter the option between A, B, C and D: d\n"
     ]
    },
    {
     "name": "stdout",
     "output_type": "stream",
     "text": [
      "Incorrect answer!\n",
      "D\n",
      "['A.San Francisco', 'B.Boston', 'C.Los Angeles', 'D.NYC']\n",
      "\n",
      "\n"
     ]
    },
    {
     "name": "stdin",
     "output_type": "stream",
     "text": [
      "Enter the option between A, B, C and D: d\n"
     ]
    },
    {
     "name": "stdout",
     "output_type": "stream",
     "text": [
      "Correct\n",
      "D\n",
      "['A.BNSC', 'B.ISRO', 'C.DLR', 'D.NASA']\n",
      "\n",
      "\n"
     ]
    },
    {
     "name": "stdin",
     "output_type": "stream",
     "text": [
      "Enter the option between A, B, C and D: d\n"
     ]
    },
    {
     "name": "stdout",
     "output_type": "stream",
     "text": [
      "Correct\n",
      "B\n",
      "['A.English', 'B.Spanish', 'C.Mandarin', 'D.Italian']\n",
      "\n",
      "\n"
     ]
    },
    {
     "name": "stdin",
     "output_type": "stream",
     "text": [
      "Enter the option between A, B, C and D: d\n"
     ]
    },
    {
     "name": "stdout",
     "output_type": "stream",
     "text": [
      "Incorrect answer!\n",
      "A\n",
      "['A.Seven', 'B.Four', 'C.Five', 'D.Six']\n",
      "\n",
      "\n"
     ]
    },
    {
     "name": "stdin",
     "output_type": "stream",
     "text": [
      "Enter the option between A, B, C and D: d\n"
     ]
    },
    {
     "name": "stdout",
     "output_type": "stream",
     "text": [
      "Incorrect answer!\n",
      "A\n",
      "['A. USA', 'B.Germany', 'C.France', 'D.England']\n",
      "\n",
      "\n"
     ]
    },
    {
     "name": "stdin",
     "output_type": "stream",
     "text": [
      "Enter the option between A, B, C and D: dd\n"
     ]
    },
    {
     "name": "stdout",
     "output_type": "stream",
     "text": [
      "Incorrect answer!\n",
      "D\n",
      "['A.Mexico', 'B.USA', 'C.Canada', 'D.Brazil']\n",
      "\n",
      "\n"
     ]
    },
    {
     "name": "stdin",
     "output_type": "stream",
     "text": [
      "Enter the option between A, B, C and D: d\n"
     ]
    },
    {
     "name": "stdout",
     "output_type": "stream",
     "text": [
      "Correct\n",
      "A\n",
      "['A.Paris', 'B. London', 'C. Rome', 'D. Berlin']\n",
      "\n",
      "\n"
     ]
    },
    {
     "name": "stdin",
     "output_type": "stream",
     "text": [
      "Enter the option between A, B, C and D: d\n"
     ]
    },
    {
     "name": "stdout",
     "output_type": "stream",
     "text": [
      "Incorrect answer!\n",
      "A\n",
      "['Skin', 'Heart', 'Brain', 'Liver']\n",
      "\n",
      "\n"
     ]
    },
    {
     "name": "stdin",
     "output_type": "stream",
     "text": [
      "Enter the option between A, B, C and D: d\n"
     ]
    },
    {
     "name": "stdout",
     "output_type": "stream",
     "text": [
      "Incorrect answer!\n"
     ]
    }
   ],
   "source": [
    "A= list(Q.values()) \n",
    "CA = [\"C\",\"C\",\"D\",\"D\",\"B\",\"A\",\"A\",\"D\",\"A\",\"A\"] # List of correct options\n",
    "myit = iter(A)\n",
    "for i in CA:\n",
    "    print(i)\n",
    "    a=next(myit)\n",
    "    print(a)\n",
    "    print(\"\\n\")\n",
    "    ans= input(\"Enter the option between A, B, C and D:\").upper()\n",
    "    if ans==i:\n",
    "      print('Correct')\n",
    "    else:\n",
    "       print('Incorrect answer!')\n",
    "\n",
    "    "
   ]
  },
  {
   "cell_type": "markdown",
   "id": "a8dd7387-6023-4212-8198-7d282c75efd4",
   "metadata": {},
   "source": [
    "### Task 2 \n",
    "\n",
    "Give the user a choice to skip the question. The score to a question that is skipped will be zero."
   ]
  },
  {
   "cell_type": "code",
   "execution_count": 7,
   "id": "7fdf28eb-0940-4088-a9c4-cfec680c4b66",
   "metadata": {},
   "outputs": [
    {
     "name": "stdout",
     "output_type": "stream",
     "text": [
      "C\n",
      "['A. Parrot', 'B.Crane', 'C.Eagle', 'D.Swan']\n",
      "\n",
      "\n"
     ]
    },
    {
     "name": "stdin",
     "output_type": "stream",
     "text": [
      "Enter the option between A, B, C and D(or'skip'): d\n"
     ]
    },
    {
     "name": "stdout",
     "output_type": "stream",
     "text": [
      "Incorrect answer!\n",
      "C\n",
      "['A.Mexico', 'B.Brazil', 'C.Canada', 'D.Argentina']\n",
      "\n",
      "\n"
     ]
    },
    {
     "name": "stdin",
     "output_type": "stream",
     "text": [
      "Enter the option between A, B, C and D(or'skip'): d\n"
     ]
    },
    {
     "name": "stdout",
     "output_type": "stream",
     "text": [
      "Incorrect answer!\n",
      "D\n",
      "['A.San Francisco', 'B.Boston', 'C.Los Angeles', 'D.NYC']\n",
      "\n",
      "\n"
     ]
    },
    {
     "name": "stdin",
     "output_type": "stream",
     "text": [
      "Enter the option between A, B, C and D(or'skip'): d\n"
     ]
    },
    {
     "name": "stdout",
     "output_type": "stream",
     "text": [
      "Correct\n",
      "D\n",
      "['A.BNSC', 'B.ISRO', 'C.DLR', 'D.NASA']\n",
      "\n",
      "\n"
     ]
    },
    {
     "name": "stdin",
     "output_type": "stream",
     "text": [
      "Enter the option between A, B, C and D(or'skip'): d\n"
     ]
    },
    {
     "name": "stdout",
     "output_type": "stream",
     "text": [
      "Correct\n",
      "B\n",
      "['A.English', 'B.Spanish', 'C.Mandarin', 'D.Italian']\n",
      "\n",
      "\n"
     ]
    },
    {
     "name": "stdin",
     "output_type": "stream",
     "text": [
      "Enter the option between A, B, C and D(or'skip'): dd\n"
     ]
    },
    {
     "name": "stdout",
     "output_type": "stream",
     "text": [
      "Incorrect answer!\n",
      "A\n",
      "['A.Seven', 'B.Four', 'C.Five', 'D.Six']\n",
      "\n",
      "\n"
     ]
    },
    {
     "name": "stdin",
     "output_type": "stream",
     "text": [
      "Enter the option between A, B, C and D(or'skip'): d\n"
     ]
    },
    {
     "name": "stdout",
     "output_type": "stream",
     "text": [
      "Incorrect answer!\n",
      "A\n",
      "['A. USA', 'B.Germany', 'C.France', 'D.England']\n",
      "\n",
      "\n"
     ]
    },
    {
     "name": "stdin",
     "output_type": "stream",
     "text": [
      "Enter the option between A, B, C and D(or'skip'): d\n"
     ]
    },
    {
     "name": "stdout",
     "output_type": "stream",
     "text": [
      "Incorrect answer!\n",
      "D\n",
      "['A.Mexico', 'B.USA', 'C.Canada', 'D.Brazil']\n",
      "\n",
      "\n"
     ]
    },
    {
     "name": "stdin",
     "output_type": "stream",
     "text": [
      "Enter the option between A, B, C and D(or'skip'): d\n"
     ]
    },
    {
     "name": "stdout",
     "output_type": "stream",
     "text": [
      "Correct\n",
      "A\n",
      "['A.Paris', 'B. London', 'C. Rome', 'D. Berlin']\n",
      "\n",
      "\n"
     ]
    },
    {
     "name": "stdin",
     "output_type": "stream",
     "text": [
      "Enter the option between A, B, C and D(or'skip'): d\n"
     ]
    },
    {
     "name": "stdout",
     "output_type": "stream",
     "text": [
      "Incorrect answer!\n",
      "A\n",
      "['Skin', 'Heart', 'Brain', 'Liver']\n",
      "\n",
      "\n"
     ]
    },
    {
     "name": "stdin",
     "output_type": "stream",
     "text": [
      "Enter the option between A, B, C and D(or'skip'): \n"
     ]
    },
    {
     "name": "stdout",
     "output_type": "stream",
     "text": [
      "Incorrect answer!\n"
     ]
    }
   ],
   "source": [
    "\n",
    "A= list(Q.values()) \n",
    "CA = [\"C\",\"C\",\"D\",\"D\",\"B\",\"A\",\"A\",\"D\",\"A\",\"A\"] # List of correct options \n",
    "S= 'SKIP'\n",
    "myit = iter(A)\n",
    "for i in CA:\n",
    "    print(i)\n",
    "    a=next(myit)\n",
    "    print(a)\n",
    "    print(\"\\n\")\n",
    "    ans = input(\"Enter the option between A, B, C and D(or'skip'):\").upper()\n",
    "    if ans==i:\n",
    "      print('Correct')\n",
    "    else:\n",
    "        if ans==S: \n",
    "          print('you skipped the question')\n",
    "        else:\n",
    "          print('Incorrect answer!')"
   ]
  },
  {
   "cell_type": "markdown",
   "id": "51612801-c690-4942-af3c-b135718c4c9c",
   "metadata": {},
   "source": [
    "### Task 3\n",
    "The program should not proceed unless an option (1, 2, 3, 4) is entered by the user or the question is skipped by the user.\n",
    "\n",
    "Note: The user does not have a choice of returning to the skipped questions."
   ]
  },
  {
   "cell_type": "code",
   "execution_count": 8,
   "id": "44164901-2069-4b0f-9c93-1f0fbf3cc426",
   "metadata": {},
   "outputs": [
    {
     "name": "stdout",
     "output_type": "stream",
     "text": [
      "C\n",
      "['A. Parrot', 'B.Crane', 'C.Eagle', 'D.Swan']\n",
      "\n",
      "\n"
     ]
    },
    {
     "name": "stdin",
     "output_type": "stream",
     "text": [
      "Enter the option between A, B, C and D(or'skip'): d\n"
     ]
    },
    {
     "name": "stdout",
     "output_type": "stream",
     "text": [
      "Incorrect answer!\n",
      "C\n",
      "['A.Mexico', 'B.Brazil', 'C.Canada', 'D.Argentina']\n",
      "\n",
      "\n"
     ]
    },
    {
     "name": "stdin",
     "output_type": "stream",
     "text": [
      "Enter the option between A, B, C and D(or'skip'): d\n"
     ]
    },
    {
     "name": "stdout",
     "output_type": "stream",
     "text": [
      "Incorrect answer!\n",
      "D\n",
      "['A.San Francisco', 'B.Boston', 'C.Los Angeles', 'D.NYC']\n",
      "\n",
      "\n"
     ]
    },
    {
     "name": "stdin",
     "output_type": "stream",
     "text": [
      "Enter the option between A, B, C and D(or'skip'): d\n"
     ]
    },
    {
     "name": "stdout",
     "output_type": "stream",
     "text": [
      "Correct\n",
      "D\n",
      "['A.BNSC', 'B.ISRO', 'C.DLR', 'D.NASA']\n",
      "\n",
      "\n"
     ]
    },
    {
     "name": "stdin",
     "output_type": "stream",
     "text": [
      "Enter the option between A, B, C and D(or'skip'): dd\n"
     ]
    },
    {
     "name": "stdout",
     "output_type": "stream",
     "text": [
      "Incorrect answer!\n",
      "B\n",
      "['A.English', 'B.Spanish', 'C.Mandarin', 'D.Italian']\n",
      "\n",
      "\n"
     ]
    },
    {
     "name": "stdin",
     "output_type": "stream",
     "text": [
      "Enter the option between A, B, C and D(or'skip'): d\n"
     ]
    },
    {
     "name": "stdout",
     "output_type": "stream",
     "text": [
      "Incorrect answer!\n",
      "A\n",
      "['A.Seven', 'B.Four', 'C.Five', 'D.Six']\n",
      "\n",
      "\n"
     ]
    },
    {
     "name": "stdin",
     "output_type": "stream",
     "text": [
      "Enter the option between A, B, C and D(or'skip'): \n"
     ]
    },
    {
     "name": "stdout",
     "output_type": "stream",
     "text": [
      "Incorrect answer!\n",
      "A\n",
      "['A. USA', 'B.Germany', 'C.France', 'D.England']\n",
      "\n",
      "\n"
     ]
    },
    {
     "name": "stdin",
     "output_type": "stream",
     "text": [
      "Enter the option between A, B, C and D(or'skip'): dd\n"
     ]
    },
    {
     "name": "stdout",
     "output_type": "stream",
     "text": [
      "Incorrect answer!\n",
      "D\n",
      "['A.Mexico', 'B.USA', 'C.Canada', 'D.Brazil']\n",
      "\n",
      "\n"
     ]
    },
    {
     "name": "stdin",
     "output_type": "stream",
     "text": [
      "Enter the option between A, B, C and D(or'skip'): d\n"
     ]
    },
    {
     "name": "stdout",
     "output_type": "stream",
     "text": [
      "Correct\n",
      "A\n",
      "['A.Paris', 'B. London', 'C. Rome', 'D. Berlin']\n",
      "\n",
      "\n"
     ]
    },
    {
     "name": "stdin",
     "output_type": "stream",
     "text": [
      "Enter the option between A, B, C and D(or'skip'): d\n"
     ]
    },
    {
     "name": "stdout",
     "output_type": "stream",
     "text": [
      "Incorrect answer!\n",
      "A\n",
      "['Skin', 'Heart', 'Brain', 'Liver']\n",
      "\n",
      "\n"
     ]
    },
    {
     "name": "stdin",
     "output_type": "stream",
     "text": [
      "Enter the option between A, B, C and D(or'skip'): d\n"
     ]
    },
    {
     "name": "stdout",
     "output_type": "stream",
     "text": [
      "Incorrect answer!\n"
     ]
    }
   ],
   "source": [
    "A= list(Q.values()) \n",
    "CA = [\"C\",\"C\",\"D\",\"D\",\"B\",\"A\",\"A\",\"D\",\"A\",\"A\"] # List of correct options \n",
    "S= 'SKIP'\n",
    "myit = iter(A)\n",
    "for i in CA:\n",
    "    print(i)\n",
    "    a=next(myit)\n",
    "    print(a)\n",
    "    print(\"\\n\")\n",
    "    ans = input(\"Enter the option between A, B, C and D(or'skip'):\").upper()\n",
    "    if ans==i:\n",
    "      print('Correct')\n",
    "    else:\n",
    "        if ans==S: \n",
    "          print('you skipped the question')\n",
    "        else:\n",
    "          print('Incorrect answer!')\n"
   ]
  },
  {
   "cell_type": "code",
   "execution_count": null,
   "id": "0d78001e-7907-4a29-b778-0d50bb0d50c4",
   "metadata": {},
   "outputs": [],
   "source": []
  },
  {
   "cell_type": "code",
   "execution_count": null,
   "id": "2b05f267-ed68-467c-afb2-4debe06cbc71",
   "metadata": {},
   "outputs": [],
   "source": []
  }
 ],
 "metadata": {
  "kernelspec": {
   "display_name": "Python 3 (ipykernel)",
   "language": "python",
   "name": "python3"
  },
  "language_info": {
   "codemirror_mode": {
    "name": "ipython",
    "version": 3
   },
   "file_extension": ".py",
   "mimetype": "text/x-python",
   "name": "python",
   "nbconvert_exporter": "python",
   "pygments_lexer": "ipython3",
   "version": "3.11.7"
  }
 },
 "nbformat": 4,
 "nbformat_minor": 5
}
