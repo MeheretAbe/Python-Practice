{
 "cells": [
  {
   "cell_type": "markdown",
   "id": "4aad6089-1e90-4977-a616-07640b079d69",
   "metadata": {},
   "source": [
    "## Task 1: Decision-Making Based on User Input\n",
    "Accept a character from the user. If the user enters:\n",
    "\n",
    "'A', then display \"Python\"\n",
    "'B', then display \"MySQL\"\n",
    "'C', then display \"Excel\"\n",
    "If the user enters any other character, then display \"Holiday\".\n",
    "\n"
   ]
  },
  {
   "cell_type": "code",
   "execution_count": 62,
   "id": "b5b4e6a2-ddd6-4fde-8a28-2be15d0fb3fc",
   "metadata": {},
   "outputs": [
    {
     "name": "stdin",
     "output_type": "stream",
     "text": [
      "What is your favorite programming language?\" a\n"
     ]
    },
    {
     "name": "stdout",
     "output_type": "stream",
     "text": [
      "Python\n"
     ]
    }
   ],
   "source": [
    "x= input('What is your favorite programming language?\"')\n",
    "if x.upper()== 'A':\n",
    "  print('Python')\n",
    "elif x.upper()=='B':\n",
    "  print('MySQL')\n",
    "elif x.upper()=='c':\n",
    "  print( 'Excel')\n",
    "else:\n",
    "  print('Holiday')\n"
   ]
  },
  {
   "cell_type": "markdown",
   "id": "e7dc16f8-d085-422a-8e73-1de60fdbcbc5",
   "metadata": {},
   "source": [
    "## Task 2: Comparing Two Numbers\n",
    "Accept two numbers from the user and display the higher of the two numbers.\n",
    "\n"
   ]
  },
  {
   "cell_type": "code",
   "execution_count": 16,
   "id": "69e26e51-35cc-48a7-93be-b6f024e6fa15",
   "metadata": {},
   "outputs": [
    {
     "name": "stdin",
     "output_type": "stream",
     "text": [
      "Give me a number: 5\n",
      "Give me another number: 5\n"
     ]
    },
    {
     "name": "stdout",
     "output_type": "stream",
     "text": [
      "They are equal\n"
     ]
    }
   ],
   "source": [
    "number_1=float(input('Give me a number:'))\n",
    "number_2= float( input('Give me another number:'))\n",
    "\n",
    "if l=number_1>number_2:\n",
    "    print(\"number_1\")\n",
    "\n",
    "elif number_1<number_2:\n",
    "    print(\"number_2\")\n",
    "\n",
    "else:\n",
    "    print(\"They are equal\")\n",
    "\n",
    "\n",
    "\n"
   ]
  },
  {
   "cell_type": "markdown",
   "id": "f2c5d126-2ee3-41d4-9d99-337701aad799",
   "metadata": {},
   "source": [
    "## Task 3: Calculating Gross Salary\n",
    "If the monthly basic salary is less than $4,000, the user will get 10%  HRAH R A and 5% TAT A on basic salary.\n",
    "If the monthly basic salary is between $4,001 and $10,000, the user will get 10%  HRAH R A and 10% TAT A on basic salary.\n",
    "If the monthly basic salary is above $10,000, the user will get 15% HRAH R A and 15% TAT A on basic salary.\n",
    "Create a program that accepts basic salary as the input and displays the annual gross salary.\n",
    "\n"
   ]
  },
  {
   "cell_type": "code",
   "execution_count": 48,
   "id": "61e1d19f-d4b0-4ec1-a296-d5ec0649fbf5",
   "metadata": {},
   "outputs": [
    {
     "name": "stdin",
     "output_type": "stream",
     "text": [
      "what is your salary? 4001\n"
     ]
    },
    {
     "name": "stdout",
     "output_type": "stream",
     "text": [
      "Your gross salary is: 57614.40000000001\n"
     ]
    }
   ],
   "source": [
    "s= float(input('what is your salary?'))\n",
    "if s < 4000:\n",
    "  print('Your gross salary is:',(s+(s *.10)+ (s*.05))*12)\n",
    "elif 4001 >= s <= 10000:\n",
    "  print('Your gross salary is:',(s+(s *.10)+ (s*.10))*12)\n",
    "elif s > 10000:\n",
    "  print('Your gross salary is:',(s+(s *.15)+ (s*.15))*12)"
   ]
  },
  {
   "cell_type": "markdown",
   "id": "4144208c-4546-487f-8d63-15807e489261",
   "metadata": {},
   "source": [
    "## Task 4: Searching a Word in a Paragraph\n",
    "var = \"Python is an interpreted, high-level, general-purpose programming language. Its design philosophy emphasizes code readability, with its use of significant indentation. Its language constructs as well as its object-oriented approach aim to help programmers write clear, logical code for small and large-scale projects.\"\n",
    "\n",
    "Accept a word from the user and check if the word exists in the variable var. Print YES if the word exists, else print NO."
   ]
  },
  {
   "cell_type": "code",
   "execution_count": 61,
   "id": "9997cc28-5cda-4bcb-9ab7-d75c3cf4fa3c",
   "metadata": {},
   "outputs": [
    {
     "name": "stdin",
     "output_type": "stream",
     "text": [
      "Enter a word: programming\n"
     ]
    },
    {
     "name": "stdout",
     "output_type": "stream",
     "text": [
      "YES\n"
     ]
    }
   ],
   "source": [
    "var = \"Python is an interpreted, high-level, general-purpose programming language. Its design philosophy emphasizes code readability, with its use of significant indentation. Its language constructs as well as its object-oriented approach aim to help programmers write clear, logical code for small and large-scale projects.\"\n",
    "\n",
    "w= input('Enter a word:')\n",
    "if w in var:\n",
    "  print('YES')\n",
    "else:\n",
    "  print('NO')"
   ]
  },
  {
   "cell_type": "markdown",
   "id": "6f658eb0-198a-432a-ba36-0ef90a485ebd",
   "metadata": {},
   "source": [
    "## Task 5: Checking if a Character is Uppercase or Lowercase\n",
    "Accept an alphabet from the user. Display if the alphabet entered is uppercase or lowercase.\n",
    "\n",
    "For example:If the input is A, then the output will be:UPPERCASE\n",
    "If the input is a, then the output will be:lowercase"
   ]
  },
  {
   "cell_type": "code",
   "execution_count": 65,
   "id": "f4deec16-56f2-4b45-b461-a52a59386039",
   "metadata": {},
   "outputs": [
    {
     "name": "stdin",
     "output_type": "stream",
     "text": [
      "Enter a letter: S\n"
     ]
    },
    {
     "name": "stdout",
     "output_type": "stream",
     "text": [
      "UPPERCASE\n"
     ]
    }
   ],
   "source": [
    "l= input( 'Enter a letter:')\n",
    "if l.isupper(): \n",
    "   print('UPPERCASE')\n",
    "if l.islower():\n",
    "    print('lowercase')"
   ]
  },
  {
   "cell_type": "markdown",
   "id": "a01ad5fb-a6ce-4260-a794-58b74e7b7e16",
   "metadata": {},
   "source": [
    "## Task 6: Checking if an Alphabet is a Vowel or Consonant\n",
    "Accept an alphabet from the user. Display whether the alphabet entered is a vowel or consonant.\n",
    "\n",
    "For example: If the input is a, then the output will be: vowel\n",
    "If the input is b, then the output will be: consonant"
   ]
  },
  {
   "cell_type": "code",
   "execution_count": 73,
   "id": "7ca380c8-5af2-4cd8-8def-2652cb2f9b35",
   "metadata": {},
   "outputs": [
    {
     "name": "stdin",
     "output_type": "stream",
     "text": [
      "Enter a letter: U\n"
     ]
    },
    {
     "name": "stdout",
     "output_type": "stream",
     "text": [
      "vowel\n"
     ]
    }
   ],
   "source": [
    "l= input('Enter a letter:')\n",
    "v= ['a','e','i','o','u']\n",
    "if l.lower() in v:\n",
    "    print('vowel')\n",
    "else:\n",
    "    print('consonant')"
   ]
  }
 ],
 "metadata": {
  "kernelspec": {
   "display_name": "Python 3 (ipykernel)",
   "language": "python",
   "name": "python3"
  },
  "language_info": {
   "codemirror_mode": {
    "name": "ipython",
    "version": 3
   },
   "file_extension": ".py",
   "mimetype": "text/x-python",
   "name": "python",
   "nbconvert_exporter": "python",
   "pygments_lexer": "ipython3",
   "version": "3.11.7"
  }
 },
 "nbformat": 4,
 "nbformat_minor": 5
}
