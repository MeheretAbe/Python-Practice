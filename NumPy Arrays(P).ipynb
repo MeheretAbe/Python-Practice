{
 "cells": [
  {
   "cell_type": "markdown",
   "id": "4040c014-7e39-4291-abac-bfaf73fcff52",
   "metadata": {},
   "source": [
    "# Exercise 1: IT Company Employee Data\n",
    "A start-up IT consulting company has four different departments: HR, Finance, IT, and Sales. Help the company organize and manage the data of its employees by performing the following tasks."
   ]
  },
  {
   "cell_type": "markdown",
   "id": "67eb74b7-82d1-4921-b61b-a277f97b5768",
   "metadata": {},
   "source": [
    "## Task 1\n",
    "\n",
    "The company has hired 30 candidates recently. Assign the employee IDs to these 30 candidates as per the details below. Save the employee IDs in separate 1D arrays, one for each department, and print them.\n"
   ]
  },
  {
   "cell_type": "code",
   "execution_count": 68,
   "id": "bd6e1a37-3d66-448c-839f-f4afe91dd1b4",
   "metadata": {},
   "outputs": [
    {
     "name": "stdout",
     "output_type": "stream",
     "text": [
      "HR Department Employee IDs: [1 2 3]\n",
      "IT Department Employee IDs: [ 4  5  6  7  8  9 10 11 12 13 14 15 16 17 18]\n",
      "Finance Department Employee IDs: [19 20 21 22 23]\n",
      "Sales Department Employee IDss: [24 25 26 27 28 29 30]\n"
     ]
    }
   ],
   "source": [
    "import numpy as np\n",
    "\n",
    "hr = np.arange(1,4)\n",
    "it= np.arange(4, 19)\n",
    "finance= np.arange(19, 24)\n",
    "sales = np.arange(24, 31)\n",
    "\n",
    "print(\"HR Department Employee IDs:\",hr)\n",
    "print(\"IT Department Employee IDs:\",it)\n",
    "print(\"Finance Department Employee IDs:\",finance)\n",
    "print(\"Sales Department Employee IDss:\",sales)\n"
   ]
  },
  {
   "cell_type": "markdown",
   "id": "5bf15e2f-e133-4131-acde-0b812d35cbb0",
   "metadata": {},
   "source": [
    "## Task 2\n",
    "\n",
    "Create four different 1D arrays to hold only the salaries of the employees as per the details below and print them.\n"
   ]
  },
  {
   "cell_type": "code",
   "execution_count": 69,
   "id": "29e1e004-2b74-4eaf-a73f-fcfed0efe9ae",
   "metadata": {},
   "outputs": [
    {
     "name": "stdout",
     "output_type": "stream",
     "text": [
      "IT Department Employee Salary: [67000, 67000, 67000, 67000, 67000, 67000, 67000, 67000, 67000, 67000, 67000, 67000, 67000, 67000, 67000]\n"
     ]
    }
   ],
   "source": [
    "\n",
    "hr_salary= [50000,60000,57000]\n",
    "it_salary= [67000]\n",
    "it_salary=it_salary*15 \n",
    "finance_salary= [50000,60000,65000,90000,56000,65000,71000]\n",
    "sales_salary = [6000,65000,50000,70000,87000]\n",
    "hr=np.array(hr_salary)\n",
    "it= np.array(it_salary)\n",
    "sales=np.array(sales_salary)\n",
    "fin=np.array(finance_salary)\n",
    "print(\"IT Department Employee Salary:\",it_salary)\n"
   ]
  },
  {
   "cell_type": "markdown",
   "id": "202767cf-a4f0-45da-ad68-1122ce863cf5",
   "metadata": {},
   "source": [
    "## Task 3\n",
    "\n",
    "Calculate the department-wise average salary expenses for the 30 employees. Also, determine the department with the highest average salary expense for the employees.\n",
    "\n"
   ]
  },
  {
   "cell_type": "code",
   "execution_count": 70,
   "id": "b01bceb6-895d-4514-9fbf-fc4b378fe032",
   "metadata": {},
   "outputs": [
    {
     "name": "stdout",
     "output_type": "stream",
     "text": [
      "The cost to HR department: 55666.666666666664\n",
      "The cost to Finance department: 65285.71428571428\n",
      "The cost to sales department: 55600.0\n",
      "The cost to IT department: 67000.0\n"
     ]
    }
   ],
   "source": [
    "Total_cost_HR= np.mean(hr_salary)\n",
    "print(\"The cost to HR department:\",Total_cost_HR)\n",
    "\n",
    "Total_cost_fin= np.mean(finance_salary)\n",
    "print(\"The cost to Finance department:\",Total_cost_fin)\n",
    "\n",
    "Total_cost_sale= np.mean(sales_salary)\n",
    "print(\"The cost to sales department:\",Total_cost_sale)\n",
    "\n",
    "Total_cost_IT= np.mean(it_salary)\n",
    "print(\"The cost to IT department:\",Total_cost_IT)\n",
    "\n"
   ]
  },
  {
   "cell_type": "code",
   "execution_count": 65,
   "id": "e1e1249c-907f-422c-b3bc-bcfb97223453",
   "metadata": {},
   "outputs": [
    {
     "name": "stdout",
     "output_type": "stream",
     "text": [
      "67000.0\n"
     ]
    }
   ],
   "source": [
    "avg= np.array([Total_cost_HR,Total_cost_fin,Total_cost_sale,Total_cost_IT])\n",
    "print(avg.max())"
   ]
  },
  {
   "cell_type": "markdown",
   "id": "3f95f62a-0c85-4f26-9e59-4f9223836e85",
   "metadata": {},
   "source": [
    "## Task 4\n",
    "\n",
    "List the highest salaries in the HR and Finance departments.\n"
   ]
  },
  {
   "cell_type": "code",
   "execution_count": 71,
   "id": "8378ea83-2568-47b0-b7d0-a87c562b6367",
   "metadata": {},
   "outputs": [
    {
     "data": {
      "text/plain": [
       "60000"
      ]
     },
     "execution_count": 71,
     "metadata": {},
     "output_type": "execute_result"
    }
   ],
   "source": [
    "high_sal_hr= hr.max()\n",
    "high_sal_hr\n",
    "\n",
    "\n"
   ]
  },
  {
   "cell_type": "code",
   "execution_count": 72,
   "id": "6e90edff-e8de-4e58-910f-d4d3b172e311",
   "metadata": {},
   "outputs": [
    {
     "data": {
      "text/plain": [
       "90000"
      ]
     },
     "execution_count": 72,
     "metadata": {},
     "output_type": "execute_result"
    }
   ],
   "source": [
    "high_sal_fin=fin.max()\n",
    "high_sal_fin"
   ]
  },
  {
   "cell_type": "markdown",
   "id": "9eef0451-2425-4ad5-ab15-92256ed93942",
   "metadata": {},
   "source": [
    "## Task 5\n",
    "\n",
    "The company has decided to give a joining/signing bonus worth 5% of the gross salary to those employees who belong to the IT department. Update the salary of such employees after adding the bonus. Display the updated salaries.\n"
   ]
  },
  {
   "cell_type": "code",
   "execution_count": 73,
   "id": "eab60b21-9020-4ff5-8ab2-7bb4b82f37d1",
   "metadata": {},
   "outputs": [
    {
     "data": {
      "text/plain": [
       "array([67000., 67000., 67000., 67000., 67000., 67000., 67000., 67000.,\n",
       "       67000., 67000., 67000., 67000., 67000., 67000., 67000.])"
      ]
     },
     "execution_count": 73,
     "metadata": {},
     "output_type": "execute_result"
    }
   ],
   "source": [
    "#1D arrays hold the salaries in the IT department for all 15 employees \n",
    "it_salary= [67000.00]\n",
    "it_salary=it_salary*15 \n",
    "it= np.array(it_salary)\n",
    "it"
   ]
  },
  {
   "cell_type": "code",
   "execution_count": 74,
   "id": "ad0883e5-ad7f-4231-acc3-8463f847edaf",
   "metadata": {},
   "outputs": [
    {
     "data": {
      "text/plain": [
       "array([70350., 70350., 70350., 70350., 70350., 70350., 70350., 70350.,\n",
       "       70350., 70350., 70350., 70350., 70350., 70350., 70350.])"
      ]
     },
     "execution_count": 74,
     "metadata": {},
     "output_type": "execute_result"
    }
   ],
   "source": [
    "it_bonus = it+(it* 0.05)\n",
    "it_bonus"
   ]
  },
  {
   "cell_type": "code",
   "execution_count": null,
   "id": "1e72d092-8b5f-4fcc-be90-0e7bfde313c4",
   "metadata": {},
   "outputs": [],
   "source": []
  },
  {
   "cell_type": "markdown",
   "id": "defd6ef8-9bc2-4502-8f7b-67052df42fb9",
   "metadata": {},
   "source": [
    "# Exercise 2: University Admission Decision\n",
    "A certain university wants to manage the admission process for its Master's programs. The university has collated some data that contains several parameters that are considered for the admission to Master's programs. The data dictionary for the data file is provided below.\n",
    "\n",
    "Help the university authorities to analyze the data by performing the upcoming tasks.\n",
    "\n",
    "Download the data file DS1_C4_S1_AdmissionPredict_Data_Practice.csv"
   ]
  },
  {
   "cell_type": "markdown",
   "id": "01455355-c529-4432-aed9-88f4a7bfaf57",
   "metadata": {},
   "source": [
    "## Task 1\n",
    "\n",
    "Import the data file into a 2D array. Display the total number of rows and columns in the array.\n",
    "\r\n",
    "Note: Use the below code to import the file into a 2D array. The data file and the Jupye rn totebook must be in the same workin directory."
   ]
  },
  {
   "cell_type": "code",
   "execution_count": 5,
   "id": "6324f9ed-ca67-4c22-83fd-814fa42c2313",
   "metadata": {},
   "outputs": [],
   "source": [
    "from numpy import genfromtxt\n",
    "import numpy as np\n",
    "   "
   ]
  },
  {
   "cell_type": "code",
   "execution_count": 6,
   "id": "65a5b869-51df-429a-81cf-0ba2c0666f56",
   "metadata": {},
   "outputs": [
    {
     "data": {
      "text/plain": [
       "array([[  1.  , 337.  , 118.  , ...,   9.65,   1.  ,   0.92],\n",
       "       [  2.  , 324.  , 107.  , ...,   8.87,   1.  ,   0.76],\n",
       "       [  3.  , 316.  , 104.  , ...,   8.  ,   1.  ,   0.72],\n",
       "       ...,\n",
       "       [398.  , 330.  , 116.  , ...,   9.45,   1.  ,   0.91],\n",
       "       [399.  , 312.  , 103.  , ...,   8.78,   0.  ,   0.67],\n",
       "       [400.  , 333.  , 117.  , ...,   9.66,   1.  ,   0.95]])"
      ]
     },
     "execution_count": 6,
     "metadata": {},
     "output_type": "execute_result"
    }
   ],
   "source": [
    "adm_data= genfromtxt('DS1_C4_S1_AdmissionPredict_Data_Practice.csv', delimiter=',', skip_header=1)\n",
    "adm_data"
   ]
  },
  {
   "cell_type": "code",
   "execution_count": 7,
   "id": "7c2d7233-7021-49a8-9770-a0eb0eb91a38",
   "metadata": {},
   "outputs": [
    {
     "data": {
      "text/plain": [
       "array([[  1.  , 337.  , 118.  , ...,   9.65,   1.  ,   0.92],\n",
       "       [  2.  , 324.  , 107.  , ...,   8.87,   1.  ,   0.76],\n",
       "       [  3.  , 316.  , 104.  , ...,   8.  ,   1.  ,   0.72],\n",
       "       ...,\n",
       "       [398.  , 330.  , 116.  , ...,   9.45,   1.  ,   0.91],\n",
       "       [399.  , 312.  , 103.  , ...,   8.78,   0.  ,   0.67],\n",
       "       [400.  , 333.  , 117.  , ...,   9.66,   1.  ,   0.95]])"
      ]
     },
     "execution_count": 7,
     "metadata": {},
     "output_type": "execute_result"
    }
   ],
   "source": [
    "np.genfromtxt('DS1_C4_S1_AdmissionPredict_Data_Practice.csv', delimiter=',', skip_header=1) #alternative"
   ]
  },
  {
   "cell_type": "code",
   "execution_count": 8,
   "id": "ed44d4b1-fe49-4519-9c13-49b6bf05238d",
   "metadata": {},
   "outputs": [
    {
     "data": {
      "text/plain": [
       "(400, 9)"
      ]
     },
     "execution_count": 8,
     "metadata": {},
     "output_type": "execute_result"
    }
   ],
   "source": [
    "adm_data.shape #shape of the array ( # or rows, # of columns)"
   ]
  },
  {
   "cell_type": "markdown",
   "id": "c54bd29f-34e7-4a22-9bbe-c37a6d22044d",
   "metadata": {},
   "source": [
    "### Task 2\n",
    "\n",
    "Display the GRE score of all the students. \r\n",
    "Note: Slice only one column from theD array."
   ]
  },
  {
   "cell_type": "code",
   "execution_count": 9,
   "id": "ab82df94-c8ee-49f3-8661-5d36cdbbfa3c",
   "metadata": {},
   "outputs": [
    {
     "data": {
      "text/plain": [
       "array([337., 324., 316., 322., 314., 330., 321., 308., 302., 323., 325.,\n",
       "       327., 328., 307., 311., 314., 317., 319., 318., 303., 312., 325.,\n",
       "       328., 334., 336., 340., 322., 298., 295., 310., 300., 327., 338.,\n",
       "       340., 331., 320., 299., 300., 304., 307., 308., 316., 313., 332.,\n",
       "       326., 322., 329., 339., 321., 327., 313., 312., 334., 324., 322.,\n",
       "       320., 316., 298., 300., 311., 309., 307., 304., 315., 325., 325.,\n",
       "       327., 316., 318., 328., 332., 336., 321., 314., 314., 329., 327.,\n",
       "       301., 296., 294., 312., 340., 320., 322., 340., 319., 315., 317.,\n",
       "       314., 316., 318., 299., 298., 301., 303., 304., 306., 331., 332.,\n",
       "       323., 322., 312., 314., 317., 326., 316., 329., 338., 331., 304.,\n",
       "       305., 321., 301., 320., 311., 310., 299., 290., 296., 327., 335.,\n",
       "       334., 310., 308., 301., 300., 323., 319., 326., 333., 339., 303.,\n",
       "       309., 323., 333., 314., 312., 316., 326., 318., 329., 332., 331.,\n",
       "       340., 325., 320., 315., 326., 339., 311., 334., 332., 321., 324.,\n",
       "       326., 312., 315., 309., 306., 297., 315., 298., 318., 317., 329.,\n",
       "       322., 302., 313., 293., 311., 312., 334., 322., 323., 321., 320.,\n",
       "       329., 319., 309., 307., 300., 305., 299., 314., 316., 327., 317.,\n",
       "       335., 331., 324., 324., 323., 322., 336., 316., 307., 306., 310.,\n",
       "       311., 313., 317., 315., 340., 334., 298., 295., 315., 310., 305.,\n",
       "       301., 325., 328., 338., 333., 331., 330., 322., 321., 324., 312.,\n",
       "       313., 316., 324., 308., 305., 296., 306., 312., 318., 324., 313.,\n",
       "       319., 312., 304., 330., 326., 325., 329., 310., 299., 296., 317.,\n",
       "       324., 325., 314., 328., 316., 311., 324., 321., 320., 316., 318.,\n",
       "       335., 321., 307., 309., 324., 326., 331., 327., 312., 308., 324.,\n",
       "       325., 313., 312., 314., 327., 308., 306., 299., 294., 312., 315.,\n",
       "       322., 329., 320., 308., 304., 311., 317., 312., 321., 340., 331.,\n",
       "       336., 324., 314., 313., 307., 300., 302., 312., 316., 317., 310.,\n",
       "       320., 330., 305., 309., 319., 322., 323., 313., 321., 323., 325.,\n",
       "       312., 308., 320., 328., 311., 301., 305., 308., 298., 300., 324.,\n",
       "       327., 317., 323., 314., 305., 315., 326., 299., 295., 324., 297.,\n",
       "       327., 311., 308., 319., 312., 325., 319., 332., 323., 324., 312.,\n",
       "       326., 308., 305., 295., 316., 304., 299., 302., 313., 318., 325.,\n",
       "       303., 300., 297., 317., 327., 301., 314., 321., 322., 334., 338.,\n",
       "       306., 313., 330., 320., 311., 298., 301., 310., 324., 336., 321.,\n",
       "       315., 304., 297., 290., 303., 311., 322., 319., 324., 300., 340.,\n",
       "       335., 302., 307., 296., 320., 314., 318., 326., 317., 329., 324.,\n",
       "       325., 330., 312., 333.])"
      ]
     },
     "execution_count": 9,
     "metadata": {},
     "output_type": "execute_result"
    }
   ],
   "source": [
    "#printing GRE score of all students \n",
    "GRE_score=adm_data[:,1] # all the rows with the second collumn \n",
    "GRE_score"
   ]
  },
  {
   "cell_type": "markdown",
   "id": "d35a86ce-0961-4b05-8dbb-b61f63d2c492",
   "metadata": {},
   "source": [
    "### Task 3\n",
    "\n",
    "Find the total number of students who have a GRE score greater than 320.\n",
    "\r\n",
    "\r\n"
   ]
  },
  {
   "cell_type": "code",
   "execution_count": 75,
   "id": "e73a6086-ce76-4b73-a07e-16a44f661b5f",
   "metadata": {},
   "outputs": [
    {
     "name": "stdout",
     "output_type": "stream",
     "text": [
      "[337. 324. 322. 330. 321. 323. 325. 327. 328. 325. 328. 334. 336. 340.\n",
      " 322. 327. 338. 340. 331. 332. 326. 322. 329. 339. 321. 327. 334. 324.\n",
      " 322. 325. 325. 327. 328. 332. 336. 321. 329. 327. 340. 322. 340. 331.\n",
      " 332. 323. 322. 326. 329. 338. 331. 321. 327. 335. 334. 323. 326. 333.\n",
      " 339. 323. 333. 326. 329. 332. 331. 340. 325. 326. 339. 334. 332. 321.\n",
      " 324. 326. 329. 322. 334. 322. 323. 321. 329. 327. 335. 331. 324. 324.\n",
      " 323. 322. 336. 340. 334. 325. 328. 338. 333. 331. 330. 322. 321. 324.\n",
      " 324. 324. 330. 326. 325. 329. 324. 325. 328. 324. 321. 335. 321. 324.\n",
      " 326. 331. 327. 324. 325. 327. 322. 329. 321. 340. 331. 336. 324. 330.\n",
      " 322. 323. 321. 323. 325. 328. 324. 327. 323. 326. 324. 327. 325. 332.\n",
      " 323. 324. 326. 325. 327. 321. 322. 334. 338. 330. 324. 336. 321. 322.\n",
      " 324. 340. 335. 326. 329. 324. 325. 330. 333.]\n"
     ]
    }
   ],
   "source": [
    "#print GRE score mor than 320\n",
    "indx=np.where(GRE_score>320)\n",
    "GREscore_more_than_320= GRE_score[indx]\n",
    "print(GREscore_more_than_320)"
   ]
  },
  {
   "cell_type": "code",
   "execution_count": 76,
   "id": "fece6a70-ef89-432b-9b6e-1576eae8baa5",
   "metadata": {},
   "outputs": [
    {
     "name": "stdout",
     "output_type": "stream",
     "text": [
      "total number of student whose GRE score is more than 320: 163\n"
     ]
    }
   ],
   "source": [
    "print('total number of student whose GRE score is more than 320:',GREscore_more_than_320.size)"
   ]
  },
  {
   "cell_type": "code",
   "execution_count": 77,
   "id": "697f797b-97e3-48fa-9031-2694659f1cf1",
   "metadata": {},
   "outputs": [
    {
     "data": {
      "text/plain": [
       "(163,)"
      ]
     },
     "execution_count": 77,
     "metadata": {},
     "output_type": "execute_result"
    }
   ],
   "source": [
    "GREscore_more_than_320.shape # tell us number of rows in 1d format "
   ]
  },
  {
   "cell_type": "markdown",
   "id": "0eb38d45-7ef4-4e6a-a7d6-97722e76d238",
   "metadata": {},
   "source": [
    "### Task 4\n",
    "\n",
    "What is the chance of admission of the students who have a TOEFLT O E F L score greater than 110? Display the admission chance as a percentage number by multiplying each value in the output by 100.\r\n",
    "Hint: Identify the index location of the students who satisfy the above conditio\n",
    "n."
   ]
  },
  {
   "cell_type": "code",
   "execution_count": 78,
   "id": "c8abb068-a4af-4440-98b9-b55aace09d3a",
   "metadata": {},
   "outputs": [
    {
     "data": {
      "text/plain": [
       "array([118., 107., 104., 110., 103., 115., 109., 101., 102., 108., 106.,\n",
       "       111., 112., 109., 104., 105., 107., 106., 110., 102., 107., 114.,\n",
       "       116., 119., 119., 120., 109.,  98.,  93.,  99.,  97., 103., 118.,\n",
       "       114., 112., 110., 106., 105., 105., 108., 110., 105., 107., 117.,\n",
       "       113., 110., 114., 119., 110., 111.,  98., 100., 116., 112., 110.,\n",
       "       103., 102.,  99.,  99., 104., 100., 101., 105., 107., 111., 112.,\n",
       "       114., 107., 109., 115., 118., 112., 111., 108., 106., 114., 112.,\n",
       "        99.,  95.,  93., 105., 120., 110., 115., 115., 103., 106., 107.,\n",
       "       108., 109., 106.,  97.,  98.,  97.,  99., 100., 100., 120., 119.,\n",
       "       113., 107., 105., 106., 104., 112., 110., 111., 117., 116., 103.,\n",
       "       108., 109., 107., 110., 105., 106., 102., 104.,  99., 104., 117.,\n",
       "       119., 106., 108., 106., 100., 113., 112., 112., 118., 114., 105.,\n",
       "       105., 112., 113., 109., 103., 100., 116., 109., 110., 118., 115.,\n",
       "       120., 112., 113., 105., 114., 116., 106., 114., 116., 112., 105.,\n",
       "       108., 109., 105., 104., 106., 100., 103.,  99., 109., 105., 111.,\n",
       "       110., 102., 102.,  97.,  99., 101., 117., 110., 113., 111., 111.,\n",
       "       119., 110., 108., 102., 104., 107., 100., 110., 106., 113., 107.,\n",
       "       118., 115., 112., 111., 110., 114., 118., 109., 107., 105., 106.,\n",
       "       104., 107., 103., 110., 120., 120., 105.,  99.,  99., 102., 106.,\n",
       "       104., 108., 110., 120., 119., 117., 116., 112., 109., 110., 104.,\n",
       "       103., 110., 113., 109., 105.,  99., 110., 110., 112., 111., 104.,\n",
       "       106., 107., 100., 113., 111., 112., 114., 104., 100., 101., 103.,\n",
       "       115., 114., 107., 110., 105., 104., 110., 111., 104.,  99., 100.,\n",
       "       115., 114., 110.,  99., 100., 102., 119., 108., 104., 103., 111.,\n",
       "       110., 102., 105., 107., 113., 108., 105.,  96.,  95.,  99., 100.,\n",
       "       110., 113., 101., 103., 102., 102., 110., 106., 111., 112., 116.,\n",
       "       118., 114., 104., 109., 105., 102.,  99.,  98., 101., 100., 107.,\n",
       "       120., 114., 112., 106., 108., 105., 107., 106., 109., 110., 112.,\n",
       "       108., 110., 104., 108., 107., 100., 105., 104., 101.,  99., 111.,\n",
       "       113., 106., 104., 107., 102., 104., 116., 100., 101., 112.,  96.,\n",
       "       113., 105., 106., 108., 107., 111., 110., 118., 108., 107., 107.,\n",
       "       110., 106., 103.,  96.,  98.,  97.,  94.,  99., 101., 107., 110.,\n",
       "       100., 102.,  98., 106., 109., 104., 105., 107., 110., 116., 115.,\n",
       "       103., 102., 114., 104.,  98.,  92.,  98., 103., 110., 119., 109.,\n",
       "       105., 101.,  96., 100.,  98.,  99., 104., 105., 110., 100., 113.,\n",
       "       117., 101., 105.,  97., 108., 102., 106., 112., 104., 111., 110.,\n",
       "       107., 116., 103., 117.])"
      ]
     },
     "execution_count": 78,
     "metadata": {},
     "output_type": "execute_result"
    }
   ],
   "source": [
    "TOEFL_score=adm_data[:,2] # all the rows with the second collumn \n",
    "TOEFL_score"
   ]
  },
  {
   "cell_type": "code",
   "execution_count": 79,
   "id": "f335cfbd-11a8-40d5-b41b-c9e82c6b4e71",
   "metadata": {},
   "outputs": [
    {
     "name": "stdout",
     "output_type": "stream",
     "text": [
      "Index of students with TOEFL score more than 110: (array([  0,   5,  11,  12,  21,  22,  23,  24,  25,  32,  33,  34,  43,\n",
      "        44,  46,  47,  49,  52,  53,  64,  65,  66,  69,  70,  71,  72,\n",
      "        75,  76,  81,  83,  84,  97,  98,  99, 104, 106, 107, 108, 120,\n",
      "       121, 126, 127, 128, 129, 130, 133, 134, 138, 141, 142, 143, 144,\n",
      "       145, 147, 148, 150, 151, 152, 164, 171, 173, 174, 175, 176, 185,\n",
      "       187, 188, 189, 190, 192, 193, 202, 203, 212, 213, 214, 215, 216,\n",
      "       222, 228, 229, 234, 235, 236, 237, 242, 243, 249, 253, 254, 259,\n",
      "       263, 268, 276, 283, 284, 285, 286, 287, 297, 298, 299, 307, 318,\n",
      "       319, 325, 328, 330, 335, 337, 361, 362, 365, 372, 384, 385, 392,\n",
      "       394, 397, 399], dtype=int64),)\n"
     ]
    }
   ],
   "source": [
    "TOEFL_score = adm_data[:, 2]\n",
    "index = np.where(TOEFL_score > 110)\n",
    "TOEFLscore_more_than_110 = TOEFL_score[index]\n",
    "print(\"Index of students with TOEFL score more than 110:\", index)\n"
   ]
  },
  {
   "cell_type": "code",
   "execution_count": 80,
   "id": "9b1a1eba-764c-48a7-8bbd-b1af6a7b73db",
   "metadata": {},
   "outputs": [
    {
     "data": {
      "text/plain": [
       "array([[0.92, 0.9 , 0.84, 0.78, 0.7 , 0.94, 0.95, 0.97, 0.94, 0.91, 0.9 ,\n",
       "        0.94, 0.87, 0.91, 0.86, 0.89, 0.78, 0.78, 0.72, 0.52, 0.55, 0.61,\n",
       "        0.78, 0.94, 0.96, 0.93, 0.72, 0.74, 0.96, 0.92, 0.94, 0.86, 0.9 ,\n",
       "        0.79, 0.74, 0.87, 0.91, 0.93, 0.94, 0.94, 0.85, 0.78, 0.84, 0.92,\n",
       "        0.96, 0.79, 0.89, 0.8 , 0.9 , 0.92, 0.97, 0.8 , 0.81, 0.83, 0.96,\n",
       "        0.93, 0.94, 0.86, 0.81, 0.89, 0.89, 0.87, 0.85, 0.9 , 0.89, 0.93,\n",
       "        0.93, 0.88, 0.9 , 0.86, 0.94, 0.97, 0.97, 0.95, 0.96, 0.94, 0.93,\n",
       "        0.91, 0.76, 0.71, 0.82, 0.91, 0.88, 0.85, 0.86, 0.7 , 0.76, 0.77,\n",
       "        0.93, 0.85, 0.9 , 0.7 , 0.83, 0.89, 0.8 , 0.94, 0.93, 0.92, 0.89,\n",
       "        0.86, 0.9 , 0.71, 0.8 , 0.79, 0.8 , 0.81, 0.8 , 0.8 , 0.83, 0.94,\n",
       "        0.93, 0.91, 0.86, 0.95, 0.96, 0.96, 0.84, 0.89, 0.91, 0.95]])"
      ]
     },
     "execution_count": 80,
     "metadata": {},
     "output_type": "execute_result"
    }
   ],
   "source": [
    "chances_of_adm=adm_data[index,8] #printing the chance of admit for all those students \n",
    "chances_of_adm"
   ]
  },
  {
   "cell_type": "markdown",
   "id": "4eb75cd9-38a3-4d62-abe8-acabe00e66a8",
   "metadata": {},
   "source": [
    "### Task 5\n",
    "\n",
    "The university decides to offer a scholarship worth $1,000 to all those students who have a GRE score greater than 315, have a TOEFL score greater than 115, and have some research experience. Determine the total number of students eligible for this scholarship. Also, display the serial number of these students.\n",
    "Hint: Identify the index position of the rows satisfying the above condition and then use this data to find the serial numbers of the students.\n"
   ]
  },
  {
   "cell_type": "code",
   "execution_count": 81,
   "id": "6cf2cb36-0319-4184-a27f-7245f28483eb",
   "metadata": {},
   "outputs": [
    {
     "data": {
      "text/plain": [
       "array([1., 1., 1., 1., 0., 1., 1., 0., 0., 0., 1., 1., 1., 1., 1., 0., 0.,\n",
       "       1., 0., 0., 1., 0., 1., 1., 1., 1., 0., 1., 0., 0., 1., 1., 1., 1.,\n",
       "       1., 1., 0., 0., 0., 0., 1., 1., 1., 0., 1., 1., 1., 0., 1., 1., 1.,\n",
       "       1., 1., 1., 0., 0., 0., 0., 1., 0., 0., 0., 1., 1., 0., 0., 0., 1.,\n",
       "       1., 1., 1., 1., 1., 1., 0., 1., 1., 0., 1., 0., 1., 1., 1., 1., 1.,\n",
       "       0., 0., 0., 0., 1., 1., 0., 0., 1., 0., 0., 0., 1., 1., 1., 1., 0.,\n",
       "       0., 0., 1., 1., 1., 1., 1., 0., 0., 1., 1., 0., 1., 1., 0., 0., 0.,\n",
       "       1., 1., 1., 0., 0., 0., 1., 1., 1., 1., 1., 1., 0., 0., 0., 1., 1.,\n",
       "       0., 1., 1., 0., 1., 1., 1., 1., 1., 1., 0., 1., 1., 1., 1., 1., 1.,\n",
       "       0., 0., 0., 0., 0., 0., 0., 0., 0., 0., 0., 1., 0., 0., 0., 1., 0.,\n",
       "       1., 1., 1., 1., 1., 1., 1., 0., 0., 0., 0., 0., 0., 0., 0., 1., 1.,\n",
       "       1., 1., 1., 1., 1., 1., 1., 0., 1., 0., 0., 0., 0., 1., 1., 1., 1.,\n",
       "       0., 0., 0., 1., 0., 1., 1., 1., 1., 1., 1., 1., 1., 1., 1., 0., 0.,\n",
       "       0., 0., 0., 0., 0., 0., 0., 0., 1., 0., 1., 0., 0., 1., 1., 1., 1.,\n",
       "       0., 0., 0., 0., 1., 1., 0., 1., 0., 0., 1., 1., 1., 0., 1., 1., 0.,\n",
       "       0., 0., 1., 1., 1., 1., 0., 1., 1., 1., 0., 0., 1., 0., 0., 1., 0.,\n",
       "       0., 1., 0., 1., 1., 0., 0., 0., 1., 1., 1., 1., 1., 1., 1., 1., 0.,\n",
       "       0., 0., 0., 0., 1., 1., 0., 0., 0., 1., 0., 0., 0., 1., 1., 0., 1.,\n",
       "       1., 1., 0., 0., 1., 1., 1., 0., 0., 0., 0., 0., 1., 1., 1., 1., 0.,\n",
       "       0., 0., 1., 0., 0., 1., 0., 1., 1., 1., 1., 1., 1., 0., 1., 1., 1.,\n",
       "       1., 1., 0., 0., 0., 0., 0., 0., 0., 0., 1., 1., 1., 0., 0., 0., 1.,\n",
       "       1., 0., 0., 1., 1., 1., 0., 1., 1., 1., 0., 0., 1., 0., 1., 1., 1.,\n",
       "       0., 0., 0., 0., 0., 1., 1., 1., 1., 0., 1., 1., 0., 0., 0., 1., 0.,\n",
       "       0., 1., 0., 1., 1., 1., 1., 0., 1.])"
      ]
     },
     "execution_count": 81,
     "metadata": {},
     "output_type": "execute_result"
    }
   ],
   "source": [
    "res_exp=adm_data[:,-2]\n",
    "res_exp"
   ]
  },
  {
   "cell_type": "code",
   "execution_count": 82,
   "id": "e72550ad-3138-42f7-b324-2d3d256b8adf",
   "metadata": {},
   "outputs": [
    {
     "name": "stdout",
     "output_type": "stream",
     "text": [
      "(array([  0,  22,  23,  24,  25,  32,  52,  70,  81,  97,  98, 107, 108,\n",
      "       120, 121, 129, 138, 141, 143, 148, 151, 171, 176, 187, 193, 202,\n",
      "       203, 212, 213, 214, 215, 259, 285, 286, 325, 337, 361, 372, 385,\n",
      "       397, 399], dtype=int64),)\n"
     ]
    }
   ],
   "source": [
    "#print the index position as per the given condition \n",
    "indx=np.where((GRE_score>315)&(TOEFL_score>115)&(res_exp==1.0))\n",
    "print(indx)"
   ]
  },
  {
   "cell_type": "code",
   "execution_count": 83,
   "id": "dd32d3c9-9421-4e90-ba3e-09178a01e152",
   "metadata": {},
   "outputs": [
    {
     "name": "stdout",
     "output_type": "stream",
     "text": [
      "[  1.   2.   3.   4.   5.   6.   7.   8.   9.  10.  11.  12.  13.  14.\n",
      "  15.  16.  17.  18.  19.  20.  21.  22.  23.  24.  25.  26.  27.  28.\n",
      "  29.  30.  31.  32.  33.  34.  35.  36.  37.  38.  39.  40.  41.  42.\n",
      "  43.  44.  45.  46.  47.  48.  49.  50.  51.  52.  53.  54.  55.  56.\n",
      "  57.  58.  59.  60.  61.  62.  63.  64.  65.  66.  67.  68.  69.  70.\n",
      "  71.  72.  73.  74.  75.  76.  77.  78.  79.  80.  81.  82.  83.  84.\n",
      "  85.  86.  87.  88.  89.  90.  91.  92.  93.  94.  95.  96.  97.  98.\n",
      "  99. 100. 101. 102. 103. 104. 105. 106. 107. 108. 109. 110. 111. 112.\n",
      " 113. 114. 115. 116. 117. 118. 119. 120. 121. 122. 123. 124. 125. 126.\n",
      " 127. 128. 129. 130. 131. 132. 133. 134. 135. 136. 137. 138. 139. 140.\n",
      " 141. 142. 143. 144. 145. 146. 147. 148. 149. 150. 151. 152. 153. 154.\n",
      " 155. 156. 157. 158. 159. 160. 161. 162. 163. 164. 165. 166. 167. 168.\n",
      " 169. 170. 171. 172. 173. 174. 175. 176. 177. 178. 179. 180. 181. 182.\n",
      " 183. 184. 185. 186. 187. 188. 189. 190. 191. 192. 193. 194. 195. 196.\n",
      " 197. 198. 199. 200. 201. 202. 203. 204. 205. 206. 207. 208. 209. 210.\n",
      " 211. 212. 213. 214. 215. 216. 217. 218. 219. 220. 221. 222. 223. 224.\n",
      " 225. 226. 227. 228. 229. 230. 231. 232. 233. 234. 235. 236. 237. 238.\n",
      " 239. 240. 241. 242. 243. 244. 245. 246. 247. 248. 249. 250. 251. 252.\n",
      " 253. 254. 255. 256. 257. 258. 259. 260. 261. 262. 263. 264. 265. 266.\n",
      " 267. 268. 269. 270. 271. 272. 273. 274. 275. 276. 277. 278. 279. 280.\n",
      " 281. 282. 283. 284. 285. 286. 287. 288. 289. 290. 291. 292. 293. 294.\n",
      " 295. 296. 297. 298. 299. 300. 301. 302. 303. 304. 305. 306. 307. 308.\n",
      " 309. 310. 311. 312. 313. 314. 315. 316. 317. 318. 319. 320. 321. 322.\n",
      " 323. 324. 325. 326. 327. 328. 329. 330. 331. 332. 333. 334. 335. 336.\n",
      " 337. 338. 339. 340. 341. 342. 343. 344. 345. 346. 347. 348. 349. 350.\n",
      " 351. 352. 353. 354. 355. 356. 357. 358. 359. 360. 361. 362. 363. 364.\n",
      " 365. 366. 367. 368. 369. 370. 371. 372. 373. 374. 375. 376. 377. 378.\n",
      " 379. 380. 381. 382. 383. 384. 385. 386. 387. 388. 389. 390. 391. 392.\n",
      " 393. 394. 395. 396. 397. 398. 399. 400.]\n",
      "[  1.  23.  24.  25.  26.  33.  53.  71.  82.  98.  99. 108. 109. 121.\n",
      " 122. 130. 139. 142. 144. 149. 152. 172. 177. 188. 194. 203. 204. 213.\n",
      " 214. 215. 216. 260. 286. 287. 326. 338. 362. 373. 386. 398. 400.]\n"
     ]
    }
   ],
   "source": [
    "#print the serial number of all the students who are eligible for scholarship \n",
    "ser_no= adm_data[:,0]\n",
    "print(ser_no)\n",
    "ser_no[indx]\n",
    "print(ser_no[indx])"
   ]
  },
  {
   "cell_type": "code",
   "execution_count": 84,
   "id": "a860df68-6265-41b9-87ac-fb2930d9f872",
   "metadata": {},
   "outputs": [
    {
     "name": "stdout",
     "output_type": "stream",
     "text": [
      "the number of students eligible for extra scholarship amount: 41\n"
     ]
    }
   ],
   "source": [
    "print('the number of students eligible for extra scholarship amount:',ser_no[indx].size)"
   ]
  }
 ],
 "metadata": {
  "kernelspec": {
   "display_name": "Python 3 (ipykernel)",
   "language": "python",
   "name": "python3"
  },
  "language_info": {
   "codemirror_mode": {
    "name": "ipython",
    "version": 3
   },
   "file_extension": ".py",
   "mimetype": "text/x-python",
   "name": "python",
   "nbconvert_exporter": "python",
   "pygments_lexer": "ipython3",
   "version": "3.11.7"
  }
 },
 "nbformat": 4,
 "nbformat_minor": 5
}
