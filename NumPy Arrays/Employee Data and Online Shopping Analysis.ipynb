{
 "cells": [
  {
   "cell_type": "markdown",
   "id": "60d92db1-d157-48da-9433-300f87ee9a16",
   "metadata": {},
   "source": [
    "### Task 1\n",
    "'''\n",
    "Calculate the average age of the employees in the IT firm.\n",
    "'''"
   ]
  },
  {
   "cell_type": "code",
   "execution_count": 35,
   "id": "440d025b-2319-4e07-af50-9fbddd767d27",
   "metadata": {},
   "outputs": [
    {
     "data": {
      "text/plain": [
       "'C:\\\\Users\\\\meher\\\\Downloads'"
      ]
     },
     "execution_count": 35,
     "metadata": {},
     "output_type": "execute_result"
    }
   ],
   "source": [
    "import os\n",
    "os.getcwd()"
   ]
  },
  {
   "cell_type": "code",
   "execution_count": 23,
   "id": "e66b0bac-4562-4217-9d1a-1dc9c527a159",
   "metadata": {},
   "outputs": [
    {
     "data": {
      "text/plain": [
       "array([[ 1., 22.],\n",
       "       [ 2., 27.],\n",
       "       [ 3., 31.],\n",
       "       [ 4., 29.],\n",
       "       [ 5., 27.],\n",
       "       [ 6., 26.],\n",
       "       [ 7., 27.],\n",
       "       [ 8., 23.],\n",
       "       [ 9., 27.],\n",
       "       [10., 32.],\n",
       "       [11., 28.],\n",
       "       [12., 27.],\n",
       "       [13., 22.],\n",
       "       [14., 27.],\n",
       "       [15., 35.],\n",
       "       [16., 33.],\n",
       "       [17., 28.],\n",
       "       [18., 22.],\n",
       "       [19., 25.],\n",
       "       [20., 27.],\n",
       "       [21., 37.],\n",
       "       [22., 27.],\n",
       "       [23., 24.],\n",
       "       [24., 27.],\n",
       "       [25., 28.],\n",
       "       [26., 26.],\n",
       "       [27., 27.],\n",
       "       [28., 27.],\n",
       "       [29., 29.],\n",
       "       [30., 49.],\n",
       "       [31., 26.],\n",
       "       [32., 32.],\n",
       "       [33., 26.],\n",
       "       [34., 24.],\n",
       "       [35., 24.],\n",
       "       [36., 23.],\n",
       "       [37., 28.],\n",
       "       [38., 28.],\n",
       "       [39., 22.],\n",
       "       [40., 26.],\n",
       "       [41., 32.],\n",
       "       [42., 35.],\n",
       "       [43., 33.],\n",
       "       [44., 31.],\n",
       "       [45., 30.],\n",
       "       [46., 36.],\n",
       "       [47., 22.],\n",
       "       [48., 23.],\n",
       "       [49., 32.],\n",
       "       [50., 34.]])"
      ]
     },
     "execution_count": 23,
     "metadata": {},
     "output_type": "execute_result"
    }
   ],
   "source": [
    "from numpy import genfromtxt\n",
    "import numpy as np\n",
    "\n",
    "# Load the CSV file from the current working directory\n",
    "emp_data = genfromtxt('DS1_C4_S1_Employee_Data_Challenge.csv', delimiter=',', skip_header=1)\n",
    "emp_data"
   ]
  },
  {
   "cell_type": "code",
   "execution_count": 24,
   "id": "0d975db8-1153-4a27-a2df-6c6c4ae5174d",
   "metadata": {},
   "outputs": [
    {
     "data": {
      "text/plain": [
       "array([[ 1., 22.],\n",
       "       [ 2., 27.],\n",
       "       [ 3., 31.],\n",
       "       [ 4., 29.],\n",
       "       [ 5., 27.],\n",
       "       [ 6., 26.],\n",
       "       [ 7., 27.],\n",
       "       [ 8., 23.],\n",
       "       [ 9., 27.],\n",
       "       [10., 32.],\n",
       "       [11., 28.],\n",
       "       [12., 27.],\n",
       "       [13., 22.],\n",
       "       [14., 27.],\n",
       "       [15., 35.],\n",
       "       [16., 33.],\n",
       "       [17., 28.],\n",
       "       [18., 22.],\n",
       "       [19., 25.],\n",
       "       [20., 27.],\n",
       "       [21., 37.],\n",
       "       [22., 27.],\n",
       "       [23., 24.],\n",
       "       [24., 27.],\n",
       "       [25., 28.],\n",
       "       [26., 26.],\n",
       "       [27., 27.],\n",
       "       [28., 27.],\n",
       "       [29., 29.],\n",
       "       [30., 49.],\n",
       "       [31., 26.],\n",
       "       [32., 32.],\n",
       "       [33., 26.],\n",
       "       [34., 24.],\n",
       "       [35., 24.],\n",
       "       [36., 23.],\n",
       "       [37., 28.],\n",
       "       [38., 28.],\n",
       "       [39., 22.],\n",
       "       [40., 26.],\n",
       "       [41., 32.],\n",
       "       [42., 35.],\n",
       "       [43., 33.],\n",
       "       [44., 31.],\n",
       "       [45., 30.],\n",
       "       [46., 36.],\n",
       "       [47., 22.],\n",
       "       [48., 23.],\n",
       "       [49., 32.],\n",
       "       [50., 34.]])"
      ]
     },
     "execution_count": 24,
     "metadata": {},
     "output_type": "execute_result"
    }
   ],
   "source": [
    "np.genfromtxt('DS1_C4_S1_Employee_Data_Challenge.csv', delimiter=',', skip_header=1) # another alternative"
   ]
  },
  {
   "cell_type": "code",
   "execution_count": 25,
   "id": "cd4a4901-8472-46e9-a3ba-f8a315d15639",
   "metadata": {},
   "outputs": [
    {
     "data": {
      "text/plain": [
       "array([22., 27., 31., 29., 27., 26., 27., 23., 27., 32., 28., 27., 22.,\n",
       "       27., 35., 33., 28., 22., 25., 27., 37., 27., 24., 27., 28., 26.,\n",
       "       27., 27., 29., 49., 26., 32., 26., 24., 24., 23., 28., 28., 22.,\n",
       "       26., 32., 35., 33., 31., 30., 36., 22., 23., 32., 34.])"
      ]
     },
     "execution_count": 25,
     "metadata": {},
     "output_type": "execute_result"
    }
   ],
   "source": [
    "# finsing the avg age of all employees\n",
    "emp_data[0:50,1]"
   ]
  },
  {
   "cell_type": "code",
   "execution_count": 26,
   "id": "00c0b91a-5278-4314-b5a8-d965e42d3305",
   "metadata": {},
   "outputs": [
    {
     "data": {
      "text/plain": [
       "28.26"
      ]
     },
     "execution_count": 26,
     "metadata": {},
     "output_type": "execute_result"
    }
   ],
   "source": [
    "emp_data[0:50,1].mean() # finding the avg age of all employees, rows 0 up to 50 and column 1"
   ]
  },
  {
   "cell_type": "markdown",
   "id": "47e1ad73-3a80-4b40-92a2-7bc4a8316686",
   "metadata": {},
   "source": [
    "### Task 2\n",
    "'''\n",
    "Display the employee IDs /codes of those employees who are above 25 years of age. Find the count of these employees.\n",
    "'''"
   ]
  },
  {
   "cell_type": "code",
   "execution_count": 27,
   "id": "edae8ced-73cb-42c3-9a5a-76a9f0dc59a6",
   "metadata": {},
   "outputs": [
    {
     "data": {
      "text/plain": [
       "array([22., 27., 31., 29., 27., 26., 27., 23., 27., 32., 28., 27., 22.,\n",
       "       27., 35., 33., 28., 22., 25., 27., 37., 27., 24., 27., 28., 26.,\n",
       "       27., 27., 29., 49., 26., 32., 26., 24., 24., 23., 28., 28., 22.,\n",
       "       26., 32., 35., 33., 31., 30., 36., 22., 23., 32., 34.])"
      ]
     },
     "execution_count": 27,
     "metadata": {},
     "output_type": "execute_result"
    }
   ],
   "source": [
    "age=emp_data[0:50,1] #printing the age of employees\n",
    "age"
   ]
  },
  {
   "cell_type": "code",
   "execution_count": 28,
   "id": "9a6a86af-e78e-4166-ba29-9a3452a4e5e0",
   "metadata": {},
   "outputs": [
    {
     "data": {
      "text/plain": [
       "array([27., 31., 29., 27., 26., 27., 27., 32., 28., 27., 27., 35., 33.,\n",
       "       28., 27., 37., 27., 27., 28., 26., 27., 27., 29., 49., 26., 32.,\n",
       "       26., 28., 28., 26., 32., 35., 33., 31., 30., 36., 32., 34.])"
      ]
     },
     "execution_count": 28,
     "metadata": {},
     "output_type": "execute_result"
    }
   ],
   "source": [
    "#printing all the ages which are more than 25 years\n",
    "index=np.where(age>25)\n",
    "age_more_than_25y=age[index]\n",
    "age_more_than_25y=age[index]\n",
    "age_more_than_25y\n"
   ]
  },
  {
   "cell_type": "code",
   "execution_count": 29,
   "id": "998da91c-b504-4fb5-b649-4594f5cc0953",
   "metadata": {},
   "outputs": [
    {
     "name": "stdout",
     "output_type": "stream",
     "text": [
      "total number of employees older than 25 years: 38\n"
     ]
    }
   ],
   "source": [
    "print('total number of employees older than 25 years:', age_more_than_25y.size)"
   ]
  },
  {
   "cell_type": "code",
   "execution_count": 30,
   "id": "cf496dec-7769-4ce5-a430-0e539b65b858",
   "metadata": {},
   "outputs": [
    {
     "data": {
      "text/plain": [
       "(array([ 1,  2,  3,  4,  5,  6,  8,  9, 10, 11, 13, 14, 15, 16, 19, 20, 21,\n",
       "        23, 24, 25, 26, 27, 28, 29, 30, 31, 32, 36, 37, 39, 40, 41, 42, 43,\n",
       "        44, 45, 48, 49], dtype=int64),)"
      ]
     },
     "execution_count": 30,
     "metadata": {},
     "output_type": "execute_result"
    }
   ],
   "source": [
    "index"
   ]
  },
  {
   "cell_type": "code",
   "execution_count": 31,
   "id": "c1583ccf-665b-496a-9247-58c5b2e14a71",
   "metadata": {},
   "outputs": [
    {
     "name": "stdout",
     "output_type": "stream",
     "text": [
      "list of employees whose age is more than 25 years along with their employee codes: [[ 2. 27.]\n",
      " [ 3. 31.]\n",
      " [ 4. 29.]\n",
      " [ 5. 27.]\n",
      " [ 6. 26.]\n",
      " [ 7. 27.]\n",
      " [ 9. 27.]\n",
      " [10. 32.]\n",
      " [11. 28.]\n",
      " [12. 27.]\n",
      " [14. 27.]\n",
      " [15. 35.]\n",
      " [16. 33.]\n",
      " [17. 28.]\n",
      " [20. 27.]\n",
      " [21. 37.]\n",
      " [22. 27.]\n",
      " [24. 27.]\n",
      " [25. 28.]\n",
      " [26. 26.]\n",
      " [27. 27.]\n",
      " [28. 27.]\n",
      " [29. 29.]\n",
      " [30. 49.]\n",
      " [31. 26.]\n",
      " [32. 32.]\n",
      " [33. 26.]\n",
      " [37. 28.]\n",
      " [38. 28.]\n",
      " [40. 26.]\n",
      " [41. 32.]\n",
      " [42. 35.]\n",
      " [43. 33.]\n",
      " [44. 31.]\n",
      " [45. 30.]\n",
      " [46. 36.]\n",
      " [49. 32.]\n",
      " [50. 34.]]\n"
     ]
    }
   ],
   "source": [
    "print('list of employees whose age is more than 25 years along with their employee codes:',emp_data[index])"
   ]
  },
  {
   "cell_type": "markdown",
   "id": "51551962-94ed-40fb-af1c-39304070c9fe",
   "metadata": {},
   "source": [
    "### Task 3\n",
    "''' \n",
    "Calculate the total number of employees who are in the age-group of 30—35 years. Display the employee IDs /codes of these employees.\n",
    "'''\n"
   ]
  },
  {
   "cell_type": "code",
   "execution_count": 32,
   "id": "ded5293f-dada-4736-90cc-8c80a9c4246e",
   "metadata": {},
   "outputs": [
    {
     "name": "stdout",
     "output_type": "stream",
     "text": [
      "[27. 31. 29. 27. 26. 27. 27. 32. 28. 27. 27. 35. 33. 28. 27. 37. 27. 27.\n",
      " 28. 26. 27. 27. 29. 49. 26. 32. 26. 28. 28. 26. 32. 35. 33. 31. 30. 36.\n",
      " 32. 34.]\n"
     ]
    }
   ],
   "source": [
    "#print all the ages that lie between 30 and 35\n",
    "\n",
    "indx=np.where((age>30)&(age<35))\n",
    "print(age[index])"
   ]
  },
  {
   "cell_type": "code",
   "execution_count": 33,
   "id": "6996f734-fc51-40c2-b6c7-0da7658f2d88",
   "metadata": {},
   "outputs": [
    {
     "name": "stdout",
     "output_type": "stream",
     "text": [
      "total number of employess whose age lies between 30 and 35 is: 38\n"
     ]
    }
   ],
   "source": [
    "print('total number of employess whose age lies between 30 and 35 is:', age[index].size)"
   ]
  },
  {
   "cell_type": "code",
   "execution_count": 34,
   "id": "f3f2a3ad-691a-4914-b89b-d13ae4b86cfb",
   "metadata": {},
   "outputs": [
    {
     "data": {
      "text/plain": [
       "(array([ 2,  9, 15, 31, 40, 42, 43, 48, 49], dtype=int64),)"
      ]
     },
     "execution_count": 34,
     "metadata": {},
     "output_type": "execute_result"
    }
   ],
   "source": [
    "indx"
   ]
  },
  {
   "cell_type": "code",
   "execution_count": 35,
   "id": "74c3b496-10ce-41d7-be97-3b7713a06264",
   "metadata": {},
   "outputs": [
    {
     "name": "stdout",
     "output_type": "stream",
     "text": [
      "list of employees whose age is more than 30 years but less than 35 years along with their employee codes: [[ 3. 31.]\n",
      " [10. 32.]\n",
      " [16. 33.]\n",
      " [32. 32.]\n",
      " [41. 32.]\n",
      " [43. 33.]\n",
      " [44. 31.]\n",
      " [49. 32.]\n",
      " [50. 34.]]\n"
     ]
    }
   ],
   "source": [
    "print('list of employees whose age is more than 30 years but less than 35 years along with their employee codes:',emp_data[indx])"
   ]
  },
  {
   "cell_type": "code",
   "execution_count": 36,
   "id": "704fee1a-0e69-46d8-9fa3-c4ac6522de54",
   "metadata": {},
   "outputs": [
    {
     "data": {
      "text/plain": [
       "'C:\\\\Users\\\\meher\\\\Downloads'"
      ]
     },
     "execution_count": 36,
     "metadata": {},
     "output_type": "execute_result"
    }
   ],
   "source": [
    "import os\n",
    "os.getcwd()"
   ]
  },
  {
   "cell_type": "code",
   "execution_count": 37,
   "id": "b29b390b-6323-4175-86b3-bd2c4106542b",
   "metadata": {},
   "outputs": [
    {
     "data": {
      "text/plain": [
       "array([[  1.,  19.,  15.,  39.],\n",
       "       [  2.,  21.,  15.,  81.],\n",
       "       [  3.,  20.,  16.,   6.],\n",
       "       [  4.,  23.,  16.,  77.],\n",
       "       [  5.,  31.,  17.,  40.],\n",
       "       [  6.,  22.,  17.,  76.],\n",
       "       [  7.,  35.,  18.,   6.],\n",
       "       [  8.,  23.,  18.,  94.],\n",
       "       [  9.,  64.,  19.,   3.],\n",
       "       [ 10.,  30.,  19.,  72.],\n",
       "       [ 11.,  67.,  19.,  14.],\n",
       "       [ 12.,  35.,  19.,  99.],\n",
       "       [ 13.,  58.,  20.,  15.],\n",
       "       [ 14.,  24.,  20.,  77.],\n",
       "       [ 15.,  37.,  20.,  13.],\n",
       "       [ 16.,  22.,  20.,  79.],\n",
       "       [ 17.,  35.,  21.,  35.],\n",
       "       [ 18.,  20.,  21.,  66.],\n",
       "       [ 19.,  52.,  23.,  29.],\n",
       "       [ 20.,  35.,  23.,  98.],\n",
       "       [ 21.,  35.,  24.,  35.],\n",
       "       [ 22.,  25.,  24.,  73.],\n",
       "       [ 23.,  46.,  25.,   5.],\n",
       "       [ 24.,  31.,  25.,  73.],\n",
       "       [ 25.,  54.,  28.,  14.],\n",
       "       [ 26.,  29.,  28.,  82.],\n",
       "       [ 27.,  45.,  28.,  32.],\n",
       "       [ 28.,  35.,  28.,  61.],\n",
       "       [ 29.,  40.,  29.,  31.],\n",
       "       [ 30.,  23.,  29.,  87.],\n",
       "       [ 31.,  60.,  30.,   4.],\n",
       "       [ 32.,  21.,  30.,  73.],\n",
       "       [ 33.,  53.,  33.,   4.],\n",
       "       [ 34.,  18.,  33.,  92.],\n",
       "       [ 35.,  49.,  33.,  14.],\n",
       "       [ 36.,  21.,  33.,  81.],\n",
       "       [ 37.,  42.,  34.,  17.],\n",
       "       [ 38.,  30.,  34.,  73.],\n",
       "       [ 39.,  36.,  37.,  26.],\n",
       "       [ 40.,  20.,  37.,  75.],\n",
       "       [ 41.,  65.,  38.,  35.],\n",
       "       [ 42.,  24.,  38.,  92.],\n",
       "       [ 43.,  48.,  39.,  36.],\n",
       "       [ 44.,  31.,  39.,  61.],\n",
       "       [ 45.,  49.,  39.,  28.],\n",
       "       [ 46.,  24.,  39.,  65.],\n",
       "       [ 47.,  50.,  40.,  55.],\n",
       "       [ 48.,  27.,  40.,  47.],\n",
       "       [ 49.,  29.,  40.,  42.],\n",
       "       [ 50.,  31.,  40.,  42.],\n",
       "       [ 51.,  49.,  42.,  52.],\n",
       "       [ 52.,  33.,  42.,  60.],\n",
       "       [ 53.,  31.,  43.,  54.],\n",
       "       [ 54.,  59.,  43.,  60.],\n",
       "       [ 55.,  50.,  43.,  45.],\n",
       "       [ 56.,  47.,  43.,  41.],\n",
       "       [ 57.,  51.,  44.,  50.],\n",
       "       [ 58.,  69.,  44.,  46.],\n",
       "       [ 59.,  27.,  46.,  51.],\n",
       "       [ 60.,  53.,  46.,  46.],\n",
       "       [ 61.,  70.,  46.,  56.],\n",
       "       [ 62.,  19.,  46.,  55.],\n",
       "       [ 63.,  67.,  47.,  52.],\n",
       "       [ 64.,  54.,  47.,  59.],\n",
       "       [ 65.,  63.,  48.,  51.],\n",
       "       [ 66.,  18.,  48.,  59.],\n",
       "       [ 67.,  43.,  48.,  50.],\n",
       "       [ 68.,  68.,  48.,  48.],\n",
       "       [ 69.,  19.,  48.,  59.],\n",
       "       [ 70.,  32.,  48.,  47.],\n",
       "       [ 71.,  70.,  49.,  55.],\n",
       "       [ 72.,  47.,  49.,  42.],\n",
       "       [ 73.,  60.,  50.,  49.],\n",
       "       [ 74.,  60.,  50.,  56.],\n",
       "       [ 75.,  59.,  54.,  47.],\n",
       "       [ 76.,  26.,  54.,  54.],\n",
       "       [ 77.,  45.,  54.,  53.],\n",
       "       [ 78.,  40.,  54.,  48.],\n",
       "       [ 79.,  23.,  54.,  52.],\n",
       "       [ 80.,  49.,  54.,  42.],\n",
       "       [ 81.,  57.,  54.,  51.],\n",
       "       [ 82.,  38.,  54.,  55.],\n",
       "       [ 83.,  67.,  54.,  41.],\n",
       "       [ 84.,  46.,  54.,  44.],\n",
       "       [ 85.,  21.,  54.,  57.],\n",
       "       [ 86.,  48.,  54.,  46.],\n",
       "       [ 87.,  55.,  57.,  58.],\n",
       "       [ 88.,  22.,  57.,  55.],\n",
       "       [ 89.,  34.,  58.,  60.],\n",
       "       [ 90.,  50.,  58.,  46.],\n",
       "       [ 91.,  68.,  59.,  55.],\n",
       "       [ 92.,  18.,  59.,  41.],\n",
       "       [ 93.,  48.,  60.,  49.],\n",
       "       [ 94.,  40.,  60.,  40.],\n",
       "       [ 95.,  32.,  60.,  42.],\n",
       "       [ 96.,  24.,  60.,  52.],\n",
       "       [ 97.,  47.,  60.,  47.],\n",
       "       [ 98.,  27.,  60.,  50.],\n",
       "       [ 99.,  48.,  61.,  42.],\n",
       "       [100.,  20.,  61.,  49.],\n",
       "       [101.,  23.,  62.,  41.],\n",
       "       [102.,  49.,  62.,  48.],\n",
       "       [103.,  67.,  62.,  59.],\n",
       "       [104.,  26.,  62.,  55.],\n",
       "       [105.,  49.,  62.,  56.],\n",
       "       [106.,  21.,  62.,  42.],\n",
       "       [107.,  66.,  63.,  50.],\n",
       "       [108.,  54.,  63.,  46.],\n",
       "       [109.,  68.,  63.,  43.],\n",
       "       [110.,  66.,  63.,  48.],\n",
       "       [111.,  65.,  63.,  52.],\n",
       "       [112.,  19.,  63.,  54.],\n",
       "       [113.,  38.,  64.,  42.],\n",
       "       [114.,  19.,  64.,  46.],\n",
       "       [115.,  18.,  65.,  48.],\n",
       "       [116.,  19.,  65.,  50.],\n",
       "       [117.,  63.,  65.,  43.],\n",
       "       [118.,  49.,  65.,  59.],\n",
       "       [119.,  51.,  67.,  43.],\n",
       "       [120.,  50.,  67.,  57.],\n",
       "       [121.,  27.,  67.,  56.],\n",
       "       [122.,  38.,  67.,  40.],\n",
       "       [123.,  40.,  69.,  58.],\n",
       "       [124.,  39.,  69.,  91.],\n",
       "       [125.,  23.,  70.,  29.],\n",
       "       [126.,  31.,  70.,  77.],\n",
       "       [127.,  43.,  71.,  35.],\n",
       "       [128.,  40.,  71.,  95.],\n",
       "       [129.,  59.,  71.,  11.],\n",
       "       [130.,  38.,  71.,  75.],\n",
       "       [131.,  47.,  71.,   9.],\n",
       "       [132.,  39.,  71.,  75.],\n",
       "       [133.,  25.,  72.,  34.],\n",
       "       [134.,  31.,  72.,  71.],\n",
       "       [135.,  20.,  73.,   5.],\n",
       "       [136.,  29.,  73.,  88.],\n",
       "       [137.,  44.,  73.,   7.],\n",
       "       [138.,  32.,  73.,  73.],\n",
       "       [139.,  19.,  74.,  10.],\n",
       "       [140.,  35.,  74.,  72.],\n",
       "       [141.,  57.,  75.,   5.],\n",
       "       [142.,  32.,  75.,  93.],\n",
       "       [143.,  28.,  76.,  40.],\n",
       "       [144.,  32.,  76.,  87.],\n",
       "       [145.,  25.,  77.,  12.],\n",
       "       [146.,  28.,  77.,  97.],\n",
       "       [147.,  48.,  77.,  36.],\n",
       "       [148.,  32.,  77.,  74.],\n",
       "       [149.,  34.,  78.,  22.],\n",
       "       [150.,  34.,  78.,  90.],\n",
       "       [151.,  43.,  78.,  17.],\n",
       "       [152.,  39.,  78.,  88.],\n",
       "       [153.,  44.,  78.,  20.],\n",
       "       [154.,  38.,  78.,  76.],\n",
       "       [155.,  47.,  78.,  16.],\n",
       "       [156.,  27.,  78.,  89.],\n",
       "       [157.,  37.,  78.,   1.],\n",
       "       [158.,  30.,  78.,  78.],\n",
       "       [159.,  34.,  78.,   1.],\n",
       "       [160.,  30.,  78.,  73.],\n",
       "       [161.,  56.,  79.,  35.],\n",
       "       [162.,  29.,  79.,  83.],\n",
       "       [163.,  19.,  81.,   5.],\n",
       "       [164.,  31.,  81.,  93.],\n",
       "       [165.,  50.,  85.,  26.],\n",
       "       [166.,  36.,  85.,  75.],\n",
       "       [167.,  42.,  86.,  20.],\n",
       "       [168.,  33.,  86.,  95.],\n",
       "       [169.,  36.,  87.,  27.],\n",
       "       [170.,  32.,  87.,  63.],\n",
       "       [171.,  40.,  87.,  13.],\n",
       "       [172.,  28.,  87.,  75.],\n",
       "       [173.,  36.,  87.,  10.],\n",
       "       [174.,  36.,  87.,  92.],\n",
       "       [175.,  52.,  88.,  13.],\n",
       "       [176.,  30.,  88.,  86.],\n",
       "       [177.,  58.,  88.,  15.],\n",
       "       [178.,  27.,  88.,  69.],\n",
       "       [179.,  59.,  93.,  14.],\n",
       "       [180.,  35.,  93.,  90.],\n",
       "       [181.,  37.,  97.,  32.],\n",
       "       [182.,  32.,  97.,  86.],\n",
       "       [183.,  46.,  98.,  15.],\n",
       "       [184.,  29.,  98.,  88.],\n",
       "       [185.,  41.,  99.,  39.],\n",
       "       [186.,  30.,  99.,  97.],\n",
       "       [187.,  54., 101.,  24.],\n",
       "       [188.,  28., 101.,  68.],\n",
       "       [189.,  41., 103.,  17.],\n",
       "       [190.,  36., 103.,  85.],\n",
       "       [191.,  34., 103.,  23.],\n",
       "       [192.,  32., 103.,  69.],\n",
       "       [193.,  33., 113.,   8.],\n",
       "       [194.,  38., 113.,  91.],\n",
       "       [195.,  47., 120.,  16.],\n",
       "       [196.,  35., 120.,  79.],\n",
       "       [197.,  45., 126.,  28.],\n",
       "       [198.,  32., 126.,  74.],\n",
       "       [199.,  32., 137.,  18.],\n",
       "       [200.,  30., 137.,  83.]])"
      ]
     },
     "execution_count": 37,
     "metadata": {},
     "output_type": "execute_result"
    }
   ],
   "source": [
    "\n",
    "from numpy import genfromtxt\n",
    "import numpy as np\n",
    "\n",
    "\n",
    "cus_data= genfromtxt('DS1_C4_S1_Shopping_Data_Challenge.csv',delimiter=',', skip_header=1)\n",
    "cus_data"
   ]
  },
  {
   "cell_type": "markdown",
   "id": "cd685da2-a3b6-44bd-aa85-9bb210d29d48",
   "metadata": {},
   "source": [
    "### Task 1\n",
    "'''\n",
    "Calculate the average age of the employees in the ITI T firm.\n",
    "'''"
   ]
  },
  {
   "cell_type": "code",
   "execution_count": 38,
   "id": "23f1fb0e-b204-46ca-abf0-115b1426b9df",
   "metadata": {},
   "outputs": [
    {
     "data": {
      "text/plain": [
       "array([39., 81.,  6., 77., 40., 76.,  6., 94.,  3., 72., 14., 99., 15.,\n",
       "       77., 13., 79., 35., 66., 29., 98., 35., 73.,  5., 73., 14., 82.,\n",
       "       32., 61., 31., 87.,  4., 73.,  4., 92., 14., 81., 17., 73., 26.,\n",
       "       75., 35., 92., 36., 61., 28., 65., 55., 47., 42., 42., 52., 60.,\n",
       "       54., 60., 45., 41., 50., 46., 51., 46., 56., 55., 52., 59., 51.,\n",
       "       59., 50., 48., 59., 47., 55., 42., 49., 56., 47., 54., 53., 48.,\n",
       "       52., 42., 51., 55., 41., 44., 57., 46., 58., 55., 60., 46., 55.,\n",
       "       41., 49., 40., 42., 52., 47., 50., 42., 49., 41., 48., 59., 55.,\n",
       "       56., 42., 50., 46., 43., 48., 52., 54., 42., 46., 48., 50., 43.,\n",
       "       59., 43., 57., 56., 40., 58., 91., 29., 77., 35., 95., 11., 75.,\n",
       "        9., 75., 34., 71.,  5., 88.,  7., 73., 10., 72.,  5., 93., 40.,\n",
       "       87., 12., 97., 36., 74., 22., 90., 17., 88., 20., 76., 16., 89.,\n",
       "        1., 78.,  1., 73., 35., 83.,  5., 93., 26., 75., 20., 95., 27.,\n",
       "       63., 13., 75., 10., 92., 13., 86., 15., 69., 14., 90., 32., 86.,\n",
       "       15., 88., 39., 97., 24., 68., 17., 85., 23., 69.,  8., 91., 16.,\n",
       "       79., 28., 74., 18., 83.])"
      ]
     },
     "execution_count": 38,
     "metadata": {},
     "output_type": "execute_result"
    }
   ],
   "source": [
    "#slicing the specific column containing the spedning score \n",
    "spn=cus_data[:,3]\n",
    "spn"
   ]
  },
  {
   "cell_type": "code",
   "execution_count": 39,
   "id": "cf17aa78-84d0-4802-b08a-4229a48813c0",
   "metadata": {},
   "outputs": [
    {
     "name": "stdout",
     "output_type": "stream",
     "text": [
      "[81. 94. 99. 98. 82. 87. 92. 81. 92. 91. 95. 88. 93. 87. 97. 90. 88. 89.\n",
      " 83. 93. 95. 92. 86. 90. 86. 88. 97. 85. 91. 83.]\n"
     ]
    }
   ],
   "source": [
    "\n",
    "# print all the scores which are more than 80\n",
    "indx=np.where(spn>80) # we are fetching the index position od data items where spend score is >80 \n",
    "spnscore_more_than_80=spn[indx]\n",
    "print(spnscore_more_than_80)"
   ]
  },
  {
   "cell_type": "code",
   "execution_count": 40,
   "id": "2ddcbf4f-3ea0-42ea-84d2-d463951dec90",
   "metadata": {},
   "outputs": [
    {
     "name": "stdout",
     "output_type": "stream",
     "text": [
      "total number of customers whose spending socre is more than 80: 30\n"
     ]
    }
   ],
   "source": [
    "print('total number of customers whose spending socre is more than 80:',spnscore_more_than_80.size)"
   ]
  },
  {
   "cell_type": "markdown",
   "id": "aa31308f-c7ef-4713-8084-4ef709f1449c",
   "metadata": {},
   "source": [
    "### Task 2\n",
    "'''\n",
    "Display the employee IDs /codes of those employees who are above 25 years of age. Find the count of these employees.\n",
    "'''"
   ]
  },
  {
   "cell_type": "code",
   "execution_count": 41,
   "id": "15189c37-6ccb-4b5c-ae91-3918f1f20ad1",
   "metadata": {},
   "outputs": [
    {
     "data": {
      "text/plain": [
       "array([19., 21., 20., 23., 31., 22., 35., 23., 64., 30., 67., 35., 58.,\n",
       "       24., 37., 22., 35., 20., 52., 35., 35., 25., 46., 31., 54., 29.,\n",
       "       45., 35., 40., 23., 60., 21., 53., 18., 49., 21., 42., 30., 36.,\n",
       "       20., 65., 24., 48., 31., 49., 24., 50., 27., 29., 31., 49., 33.,\n",
       "       31., 59., 50., 47., 51., 69., 27., 53., 70., 19., 67., 54., 63.,\n",
       "       18., 43., 68., 19., 32., 70., 47., 60., 60., 59., 26., 45., 40.,\n",
       "       23., 49., 57., 38., 67., 46., 21., 48., 55., 22., 34., 50., 68.,\n",
       "       18., 48., 40., 32., 24., 47., 27., 48., 20., 23., 49., 67., 26.,\n",
       "       49., 21., 66., 54., 68., 66., 65., 19., 38., 19., 18., 19., 63.,\n",
       "       49., 51., 50., 27., 38., 40., 39., 23., 31., 43., 40., 59., 38.,\n",
       "       47., 39., 25., 31., 20., 29., 44., 32., 19., 35., 57., 32., 28.,\n",
       "       32., 25., 28., 48., 32., 34., 34., 43., 39., 44., 38., 47., 27.,\n",
       "       37., 30., 34., 30., 56., 29., 19., 31., 50., 36., 42., 33., 36.,\n",
       "       32., 40., 28., 36., 36., 52., 30., 58., 27., 59., 35., 37., 32.,\n",
       "       46., 29., 41., 30., 54., 28., 41., 36., 34., 32., 33., 38., 47.,\n",
       "       35., 45., 32., 32., 30.])"
      ]
     },
     "execution_count": 41,
     "metadata": {},
     "output_type": "execute_result"
    }
   ],
   "source": [
    "#printing all the ages of customers\n",
    "age=cus_data[:,1] #slicing the age column \n",
    "age"
   ]
  },
  {
   "cell_type": "code",
   "execution_count": 42,
   "id": "bb93fdde-1498-4627-a43f-9b86d9c2ccc8",
   "metadata": {},
   "outputs": [
    {
     "name": "stdout",
     "output_type": "stream",
     "text": [
      "[21. 20. 23. 22. 23. 24. 22. 20. 23. 21. 21. 20. 24. 24. 23. 21. 22. 24.\n",
      " 20. 23. 21. 23. 20.]\n"
     ]
    }
   ],
   "source": [
    "# print all the ages from 20-24\n",
    "ind=np.where((age>=20)&(age<25))\n",
    "print(age[ind])"
   ]
  },
  {
   "cell_type": "code",
   "execution_count": 43,
   "id": "edc24b02-29dc-4abb-8819-c8f21abbf63e",
   "metadata": {},
   "outputs": [
    {
     "name": "stdout",
     "output_type": "stream",
     "text": [
      "total number of employees whose age lie between 20 and 25 is: 23\n"
     ]
    }
   ],
   "source": [
    "print('total number of employees whose age lie between 20 and 25 is:',age[ind].size)"
   ]
  },
  {
   "cell_type": "code",
   "execution_count": 44,
   "id": "93d6cd70-151e-422e-b97f-1410a2994399",
   "metadata": {},
   "outputs": [
    {
     "data": {
      "text/plain": [
       "(array([  1,   2,   3,   5,   7,  13,  15,  17,  29,  31,  35,  39,  41,\n",
       "         45,  78,  84,  87,  95,  99, 100, 105, 124, 134], dtype=int64),)"
      ]
     },
     "execution_count": 44,
     "metadata": {},
     "output_type": "execute_result"
    }
   ],
   "source": [
    "ind"
   ]
  },
  {
   "cell_type": "code",
   "execution_count": 45,
   "id": "eac2e74f-3661-4614-af2e-1696fe60d5f8",
   "metadata": {},
   "outputs": [
    {
     "name": "stdout",
     "output_type": "stream",
     "text": [
      "[[  2.  21.  15.  81.]\n",
      " [  3.  20.  16.   6.]\n",
      " [  4.  23.  16.  77.]\n",
      " [  6.  22.  17.  76.]\n",
      " [  8.  23.  18.  94.]\n",
      " [ 14.  24.  20.  77.]\n",
      " [ 16.  22.  20.  79.]\n",
      " [ 18.  20.  21.  66.]\n",
      " [ 30.  23.  29.  87.]\n",
      " [ 32.  21.  30.  73.]\n",
      " [ 36.  21.  33.  81.]\n",
      " [ 40.  20.  37.  75.]\n",
      " [ 42.  24.  38.  92.]\n",
      " [ 46.  24.  39.  65.]\n",
      " [ 79.  23.  54.  52.]\n",
      " [ 85.  21.  54.  57.]\n",
      " [ 88.  22.  57.  55.]\n",
      " [ 96.  24.  60.  52.]\n",
      " [100.  20.  61.  49.]\n",
      " [101.  23.  62.  41.]\n",
      " [106.  21.  62.  42.]\n",
      " [125.  23.  70.  29.]\n",
      " [135.  20.  73.   5.]]\n"
     ]
    }
   ],
   "source": [
    "#displaying therows pertaiing to only the customer age between 21 and 25\n",
    "print(cus_data[ind])"
   ]
  },
  {
   "cell_type": "markdown",
   "id": "03bcc86f-d772-4fa0-83bb-b5bb46412c53",
   "metadata": {},
   "source": [
    "### Task 3\n",
    "'''\n",
    "Calculate the total number of employees who are in the age-group of 30—35 years. Display the employee IDs/codes of these employees.\n",
    "'''\n"
   ]
  },
  {
   "cell_type": "code",
   "execution_count": 52,
   "id": "6689c5bb-e963-4ad3-bc1e-c82633ba24ad",
   "metadata": {},
   "outputs": [
    {
     "name": "stdout",
     "output_type": "stream",
     "text": [
      "the lowest annual salary present in dataset is: 15.0\n"
     ]
    }
   ],
   "source": [
    "sal=cus_data[:,2] #slicing the salary column\n",
    "print('the lowest annual salary present in dataset is:',sal.min())"
   ]
  },
  {
   "cell_type": "code",
   "execution_count": 53,
   "id": "5ea969e4-1b07-40cb-900a-8b5da354a452",
   "metadata": {},
   "outputs": [
    {
     "name": "stdout",
     "output_type": "stream",
     "text": [
      "(array([0, 1], dtype=int64),)\n"
     ]
    }
   ],
   "source": [
    "#finding the index position of customer whose salary is 15k\n",
    "index=np.where(sal==15)\n",
    "print(index)"
   ]
  },
  {
   "cell_type": "code",
   "execution_count": 56,
   "id": "1dae9246-8317-45f6-a58c-55b043f1e443",
   "metadata": {},
   "outputs": [
    {
     "name": "stdout",
     "output_type": "stream",
     "text": [
      "customerid of customer who has the lowest salary: [1. 2.]\n"
     ]
    }
   ],
   "source": [
    "#print the customer id whose annual salary is the lowest \n",
    "custid=cus_data[:,0]\n",
    "print('customerid of customer who has the lowest salary:', custid[index])"
   ]
  },
  {
   "cell_type": "code",
   "execution_count": 48,
   "id": "b223da53-bfa4-4952-9435-41d2eda4b643",
   "metadata": {},
   "outputs": [
    {
     "data": {
      "text/plain": [
       "(array([  4,  23,  43,  49,  51,  52,  69,  88,  94, 125, 133, 137, 141,\n",
       "        143, 147, 148, 149, 158, 163, 167, 169, 181, 190, 191, 192, 197,\n",
       "        198], dtype=int64),)"
      ]
     },
     "execution_count": 48,
     "metadata": {},
     "output_type": "execute_result"
    }
   ],
   "source": [
    "#finind the highest salary\n",
    "sal=cu_data[:,2]\n",
    "print('the highest annual salary present in dataset is:',sal.max())"
   ]
  },
  {
   "cell_type": "code",
   "execution_count": 58,
   "id": "58fe2387-71e0-4e20-9f0f-0857926a2295",
   "metadata": {},
   "outputs": [
    {
     "name": "stdout",
     "output_type": "stream",
     "text": [
      "the highest annual salary present in dataset is: 137.0\n"
     ]
    }
   ],
   "source": [
    "#finding the highest salary\n",
    "sal=cus_data[:,2]\n",
    "print('the highest annual salary present in dataset is:',sal.max())"
   ]
  },
  {
   "cell_type": "code",
   "execution_count": 59,
   "id": "6c662301-4299-4215-b454-92e13dd6a036",
   "metadata": {},
   "outputs": [
    {
     "name": "stdout",
     "output_type": "stream",
     "text": [
      "(array([198, 199], dtype=int64),)\n"
     ]
    }
   ],
   "source": [
    "#fininding the index position of the customer whose salary is 137k usd\n",
    "index1=np.where(sal==137)\n",
    "print(index1)"
   ]
  },
  {
   "cell_type": "code",
   "execution_count": 60,
   "id": "34f10867-2ba7-42cb-a300-6b11008137c4",
   "metadata": {},
   "outputs": [
    {
     "name": "stdout",
     "output_type": "stream",
     "text": [
      "customer id with highest annual income: [199. 200.]\n"
     ]
    }
   ],
   "source": [
    "#printing the customer id whi highest annual salary \n",
    "cusid=cus_data[:,0]\n",
    "print('customer id with highest annual income:',custid[index1])"
   ]
  },
  {
   "cell_type": "markdown",
   "id": "d734b04b-abe6-4421-b621-2545dc5eb057",
   "metadata": {},
   "source": [
    "### Task 4\n",
    "'''\n",
    "Display the details of the customers who are less than 45 years of age, have an annual income greater than $35k, and have a spending score greater than 75. How many such customers are there in the given data?\n",
    "'''"
   ]
  },
  {
   "cell_type": "code",
   "execution_count": 62,
   "id": "92cb07b2-ea0d-4fd2-a406-de1a0024673d",
   "metadata": {},
   "outputs": [
    {
     "name": "stdout",
     "output_type": "stream",
     "text": [
      "index position of customers as per the given condition:\n",
      " (array([ 41, 123, 125, 127, 135, 141, 143, 145, 149, 151, 153, 155, 157,\n",
      "       161, 163, 167, 173, 175, 179, 181, 183, 185, 189, 193, 195, 199],\n",
      "      dtype=int64),)\n"
     ]
    }
   ],
   "source": [
    "indx=np.where((spn>75)&(age<45)&(sal>35))\n",
    "#each of the above individual arrays i.e spend, age and sal which is sliced from original array\n",
    "print('index position of customers as per the given condition:\\n',indx)"
   ]
  },
  {
   "cell_type": "code",
   "execution_count": 63,
   "id": "6f51d4f5-fab3-40ec-80fa-8a1a18d8d73a",
   "metadata": {},
   "outputs": [
    {
     "name": "stdout",
     "output_type": "stream",
     "text": [
      "total number of customers who are eligible for sicount: 26\n"
     ]
    }
   ],
   "source": [
    "print('total number of customers who are eligible for sicount:', age[indx].size)"
   ]
  },
  {
   "cell_type": "markdown",
   "id": "dc9fb910-8acd-4964-9987-8012d80dc84c",
   "metadata": {},
   "source": [
    "### Task 5\n",
    "''' \n",
    "During the Christmas season, the company wishes to offer random gift coupons valued between $10 and $50 to all its customers. Add a new column for the gift coupons in the existing data. Display the details of the customers after adding the new column.\n",
    "'''"
   ]
  },
  {
   "cell_type": "code",
   "execution_count": 65,
   "id": "ebedc0f9-f956-4502-a9ef-a6c93286e868",
   "metadata": {},
   "outputs": [
    {
     "data": {
      "text/plain": [
       "array([[22],\n",
       "       [48],\n",
       "       [23],\n",
       "       [47],\n",
       "       [11],\n",
       "       [22],\n",
       "       [13],\n",
       "       [38],\n",
       "       [22],\n",
       "       [38],\n",
       "       [31],\n",
       "       [21],\n",
       "       [21],\n",
       "       [23],\n",
       "       [29],\n",
       "       [44],\n",
       "       [27],\n",
       "       [17],\n",
       "       [23],\n",
       "       [34],\n",
       "       [16],\n",
       "       [41],\n",
       "       [19],\n",
       "       [47],\n",
       "       [27],\n",
       "       [29],\n",
       "       [28],\n",
       "       [29],\n",
       "       [22],\n",
       "       [35],\n",
       "       [24],\n",
       "       [49],\n",
       "       [14],\n",
       "       [30],\n",
       "       [19],\n",
       "       [33],\n",
       "       [19],\n",
       "       [34],\n",
       "       [30],\n",
       "       [16],\n",
       "       [46],\n",
       "       [19],\n",
       "       [23],\n",
       "       [30],\n",
       "       [18],\n",
       "       [19],\n",
       "       [49],\n",
       "       [46],\n",
       "       [10],\n",
       "       [44],\n",
       "       [30],\n",
       "       [15],\n",
       "       [11],\n",
       "       [46],\n",
       "       [46],\n",
       "       [17],\n",
       "       [19],\n",
       "       [36],\n",
       "       [49],\n",
       "       [42],\n",
       "       [29],\n",
       "       [47],\n",
       "       [33],\n",
       "       [32],\n",
       "       [15],\n",
       "       [10],\n",
       "       [18],\n",
       "       [13],\n",
       "       [14],\n",
       "       [15],\n",
       "       [41],\n",
       "       [39],\n",
       "       [25],\n",
       "       [36],\n",
       "       [17],\n",
       "       [38],\n",
       "       [12],\n",
       "       [36],\n",
       "       [25],\n",
       "       [44],\n",
       "       [44],\n",
       "       [14],\n",
       "       [18],\n",
       "       [46],\n",
       "       [48],\n",
       "       [17],\n",
       "       [17],\n",
       "       [28],\n",
       "       [44],\n",
       "       [14],\n",
       "       [33],\n",
       "       [25],\n",
       "       [29],\n",
       "       [41],\n",
       "       [11],\n",
       "       [29],\n",
       "       [37],\n",
       "       [21],\n",
       "       [43],\n",
       "       [16],\n",
       "       [40],\n",
       "       [37],\n",
       "       [34],\n",
       "       [21],\n",
       "       [49],\n",
       "       [49],\n",
       "       [12],\n",
       "       [40],\n",
       "       [14],\n",
       "       [29],\n",
       "       [30],\n",
       "       [10],\n",
       "       [41],\n",
       "       [28],\n",
       "       [45],\n",
       "       [30],\n",
       "       [43],\n",
       "       [49],\n",
       "       [47],\n",
       "       [21],\n",
       "       [42],\n",
       "       [21],\n",
       "       [36],\n",
       "       [27],\n",
       "       [17],\n",
       "       [17],\n",
       "       [13],\n",
       "       [31],\n",
       "       [46],\n",
       "       [39],\n",
       "       [38],\n",
       "       [32],\n",
       "       [25],\n",
       "       [10],\n",
       "       [34],\n",
       "       [48],\n",
       "       [12],\n",
       "       [44],\n",
       "       [13],\n",
       "       [26],\n",
       "       [16],\n",
       "       [36],\n",
       "       [10],\n",
       "       [49],\n",
       "       [40],\n",
       "       [49],\n",
       "       [39],\n",
       "       [28],\n",
       "       [36],\n",
       "       [14],\n",
       "       [26],\n",
       "       [41],\n",
       "       [36],\n",
       "       [22],\n",
       "       [12],\n",
       "       [50],\n",
       "       [38],\n",
       "       [44],\n",
       "       [10],\n",
       "       [38],\n",
       "       [16],\n",
       "       [19],\n",
       "       [42],\n",
       "       [29],\n",
       "       [46],\n",
       "       [42],\n",
       "       [40],\n",
       "       [12],\n",
       "       [13],\n",
       "       [44],\n",
       "       [45],\n",
       "       [40],\n",
       "       [41],\n",
       "       [37],\n",
       "       [33],\n",
       "       [32],\n",
       "       [20],\n",
       "       [42],\n",
       "       [36],\n",
       "       [10],\n",
       "       [44],\n",
       "       [18],\n",
       "       [38],\n",
       "       [21],\n",
       "       [15],\n",
       "       [26],\n",
       "       [14],\n",
       "       [20],\n",
       "       [45],\n",
       "       [41],\n",
       "       [12],\n",
       "       [33],\n",
       "       [23],\n",
       "       [21],\n",
       "       [19],\n",
       "       [13],\n",
       "       [49],\n",
       "       [23],\n",
       "       [40],\n",
       "       [31]])"
      ]
     },
     "execution_count": 65,
     "metadata": {},
     "output_type": "execute_result"
    }
   ],
   "source": [
    "#generating random gift coupon between $10 to $50 percent for 200 customers\n",
    "disc=np.random.randint(10,51, size=(200,1)) #press shift and tab\n",
    "disc\n"
   ]
  },
  {
   "cell_type": "code",
   "execution_count": null,
   "id": "0252ae0b-9654-4b8d-b687-46b4b6e988eb",
   "metadata": {},
   "outputs": [],
   "source": []
  }
 ],
 "metadata": {
  "kernelspec": {
   "display_name": "Python 3 (ipykernel)",
   "language": "python",
   "name": "python3"
  },
  "language_info": {
   "codemirror_mode": {
    "name": "ipython",
    "version": 3
   },
   "file_extension": ".py",
   "mimetype": "text/x-python",
   "name": "python",
   "nbconvert_exporter": "python",
   "pygments_lexer": "ipython3",
   "version": "3.11.7"
  }
 },
 "nbformat": 4,
 "nbformat_minor": 5
}
