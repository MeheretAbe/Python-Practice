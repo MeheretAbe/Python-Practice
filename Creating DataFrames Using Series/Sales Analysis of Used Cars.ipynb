{
 "cells": [
  {
   "cell_type": "markdown",
   "id": "cf4c4612-6e22-4b28-865e-8b82928dd6ae",
   "metadata": {},
   "source": [
    "## Task1 \n",
    "\n",
    "- The price of 20 such cars is between $30-100K for each car. The price data is provided as a list in the Jupiter Notebook. Click here to download the notebook. Create a Pandas Series object to store the prices of the cars and assign them the row indices from 101 to 120.\n"
   ]
  },
  {
   "cell_type": "code",
   "execution_count": 9,
   "id": "8acac4fe-4d11-492a-95b1-67e98a23ee5b",
   "metadata": {},
   "outputs": [],
   "source": [
    "import pandas as pd\n",
    "import numpy as np"
   ]
  },
  {
   "cell_type": "code",
   "execution_count": 99,
   "id": "532501f3-847e-4e10-8485-22685abcb695",
   "metadata": {},
   "outputs": [],
   "source": [
    "price= [80121, 48483, 37077, 30660, 68536, 52666, 78703, 51036, 55643, 56990, 39967, 93822, 51406, 93947, 78373, 62765, 47536, 40528, 58780, 83197]"
   ]
  },
  {
   "cell_type": "code",
   "execution_count": 100,
   "id": "5c0ab5fc-bb28-481b-bbbb-3325b145274d",
   "metadata": {},
   "outputs": [
    {
     "data": {
      "text/plain": [
       "101    80121\n",
       "102    48483\n",
       "103    37077\n",
       "104    30660\n",
       "105    68536\n",
       "106    52666\n",
       "107    78703\n",
       "108    51036\n",
       "109    55643\n",
       "110    56990\n",
       "111    39967\n",
       "112    93822\n",
       "113    51406\n",
       "114    93947\n",
       "115    78373\n",
       "116    62765\n",
       "117    47536\n",
       "118    40528\n",
       "119    58780\n",
       "120    83197\n",
       "dtype: int64"
      ]
     },
     "execution_count": 100,
     "metadata": {},
     "output_type": "execute_result"
    }
   ],
   "source": [
    "car_p = pd.Series(price, index=np.arange(101, 121))\n",
    "car_p"
   ]
  },
  {
   "cell_type": "markdown",
   "id": "bafdb307-57bc-45e6-92f1-8f3aafb12306",
   "metadata": {},
   "source": [
    "## Task 2\n",
    "- Identify the row indices and prices of the cars with the highest and the lowest price.\n"
   ]
  },
  {
   "cell_type": "code",
   "execution_count": 101,
   "id": "5fb963e3-04fe-4f25-9b7a-b4dd5d53fc29",
   "metadata": {},
   "outputs": [
    {
     "data": {
      "text/plain": [
       "114    93947\n",
       "dtype: int64"
      ]
     },
     "execution_count": 101,
     "metadata": {},
     "output_type": "execute_result"
    }
   ],
   "source": [
    "car_p[car_p==car_p.max()]#car with highest price with the corresponding index"
   ]
  },
  {
   "cell_type": "code",
   "execution_count": 102,
   "id": "bdcc7ee7-6e33-4915-9889-93d8f55685af",
   "metadata": {},
   "outputs": [
    {
     "data": {
      "text/plain": [
       "104    30660\n",
       "dtype: int64"
      ]
     },
     "execution_count": 102,
     "metadata": {},
     "output_type": "execute_result"
    }
   ],
   "source": [
    "car_p[car_p==car_p.min()] #car with lowest price with the corresponding index"
   ]
  },
  {
   "cell_type": "code",
   "execution_count": null,
   "id": "d5cd50bb-9f37-4dbc-ad48-077d1d3fa193",
   "metadata": {},
   "outputs": [],
   "source": []
  },
  {
   "cell_type": "markdown",
   "id": "0a3ba12f-c4ed-490a-a4f7-ebec25ad09c5",
   "metadata": {},
   "source": [
    "## Task 3\n",
    "- Display the prices of the five cars with the highest values of car price along with their row indices.\n"
   ]
  },
  {
   "cell_type": "code",
   "execution_count": 103,
   "id": "f32857e3-a1b9-41f5-8214-5f859b4a35a4",
   "metadata": {},
   "outputs": [
    {
     "data": {
      "text/plain": [
       "114    93947\n",
       "112    93822\n",
       "120    83197\n",
       "101    80121\n",
       "107    78703\n",
       "dtype: int64"
      ]
     },
     "execution_count": 103,
     "metadata": {},
     "output_type": "execute_result"
    }
   ],
   "source": [
    "car_p.sort_values(ascending=False)[0:5]"
   ]
  },
  {
   "cell_type": "markdown",
   "id": "adb96fc2-f51f-493e-a7e9-c93a8019dfe4",
   "metadata": {},
   "source": [
    "## Task 4\n",
    "\n",
    "- Display the prices of all cars priced between $30-40k along with the row indices. Calculate and display the count of these cars.\n"
   ]
  },
  {
   "cell_type": "code",
   "execution_count": 104,
   "id": "bad490cc-10e9-4f19-9559-8ea7e7b994b2",
   "metadata": {},
   "outputs": [
    {
     "data": {
      "text/plain": [
       "103    37077\n",
       "104    30660\n",
       "111    39967\n",
       "dtype: int64"
      ]
     },
     "execution_count": 104,
     "metadata": {},
     "output_type": "execute_result"
    }
   ],
   "source": [
    "car_p[(car_p <= 40000)&(car_p>= 30000)]"
   ]
  },
  {
   "cell_type": "code",
   "execution_count": null,
   "id": "b6cc88bb-98cb-4fd1-b5ec-bd3a7460192d",
   "metadata": {},
   "outputs": [],
   "source": []
  },
  {
   "cell_type": "markdown",
   "id": "65265143-c962-4938-9a6c-fd89cac9d9e0",
   "metadata": {},
   "source": [
    "## Task 5\n",
    "\n",
    "- Display the prices and row indices of the cars that are priced above the average price of all cars. Display the count of such cars.\n"
   ]
  },
  {
   "cell_type": "code",
   "execution_count": 105,
   "id": "6ee087fb-24dc-499e-85c8-95ab4f04b0e6",
   "metadata": {},
   "outputs": [
    {
     "data": {
      "text/plain": [
       "101    80121\n",
       "105    68536\n",
       "107    78703\n",
       "112    93822\n",
       "114    93947\n",
       "115    78373\n",
       "116    62765\n",
       "120    83197\n",
       "dtype: int64"
      ]
     },
     "execution_count": 105,
     "metadata": {},
     "output_type": "execute_result"
    }
   ],
   "source": [
    "car_p[car_p>=car_p.mean()]"
   ]
  },
  {
   "cell_type": "code",
   "execution_count": 106,
   "id": "61766308-98c9-484c-b031-91324983ad88",
   "metadata": {},
   "outputs": [
    {
     "name": "stdout",
     "output_type": "stream",
     "text": [
      "count of car prices above the avg price: 8\n"
     ]
    }
   ],
   "source": [
    "cnt= len(car_p[car_p >= car_p.mean()]) \n",
    "print('count of car prices above the avg price:', cnt)"
   ]
  },
  {
   "cell_type": "code",
   "execution_count": 107,
   "id": "fb780696-aae4-4ce7-8cd2-922a0717275a",
   "metadata": {},
   "outputs": [
    {
     "data": {
      "text/plain": [
       "8"
      ]
     },
     "execution_count": 107,
     "metadata": {},
     "output_type": "execute_result"
    }
   ],
   "source": [
    "(car_p[car_p >= car_p.mean()]).size"
   ]
  },
  {
   "cell_type": "code",
   "execution_count": 108,
   "id": "85627518-5165-42b2-9aed-8ab38418abc9",
   "metadata": {},
   "outputs": [
    {
     "data": {
      "text/plain": [
       "(8,)"
      ]
     },
     "execution_count": 108,
     "metadata": {},
     "output_type": "execute_result"
    }
   ],
   "source": [
    "(car_p[car_p >= car_p.mean()]).shape"
   ]
  },
  {
   "cell_type": "markdown",
   "id": "5654ab86-b708-4dc3-9e7f-358c0a91d73e",
   "metadata": {},
   "source": [
    "## Task 6\n",
    "\n",
    "The car dealer needs to add three new cars with the row indices 201, 202, and 203 priced at $34,000, 45,000, and 54,000 respectively. Update the existing data and display the prices along with the row indices of all cars.\n"
   ]
  },
  {
   "cell_type": "code",
   "execution_count": 109,
   "id": "7e6ea2e3-951d-4144-b8e4-05ae991600e1",
   "metadata": {},
   "outputs": [
    {
     "data": {
      "text/plain": [
       "201    34000\n",
       "202    45000\n",
       "203    54000\n",
       "dtype: int64"
      ]
     },
     "execution_count": 109,
     "metadata": {},
     "output_type": "execute_result"
    }
   ],
   "source": [
    "car_i = [201, 202, 203]\n",
    "car_price = [34000, 45000, 54000]\n",
    "\n",
    "car_p2 = pd.Series(car_price, index=car_i)\n",
    "car_p2"
   ]
  },
  {
   "cell_type": "code",
   "execution_count": 110,
   "id": "65fcea20-5ddd-4289-8c00-3ba293fe5f2e",
   "metadata": {},
   "outputs": [
    {
     "data": {
      "text/plain": [
       "101    80121\n",
       "102    48483\n",
       "103    37077\n",
       "104    30660\n",
       "105    68536\n",
       "106    52666\n",
       "107    78703\n",
       "108    51036\n",
       "109    55643\n",
       "110    56990\n",
       "111    39967\n",
       "112    93822\n",
       "113    51406\n",
       "114    93947\n",
       "115    78373\n",
       "116    62765\n",
       "117    47536\n",
       "118    40528\n",
       "119    58780\n",
       "120    83197\n",
       "201    34000\n",
       "202    45000\n",
       "203    54000\n",
       "dtype: int64"
      ]
     },
     "execution_count": 110,
     "metadata": {},
     "output_type": "execute_result"
    }
   ],
   "source": [
    "new_car = pd.concat([car_p,car_p2]) #adding the old data with the new one \n",
    "new_car"
   ]
  },
  {
   "cell_type": "markdown",
   "id": "992ab09e-266e-4003-9320-cc386df98764",
   "metadata": {},
   "source": [
    "## Task 7\n",
    "\n",
    "The car dealer is offering a discount of 20% on cars priced above $60,000. Display the row indices along with the original and discounted prices of all such cars.\n"
   ]
  },
  {
   "cell_type": "code",
   "execution_count": 111,
   "id": "394b93a0-2609-488d-b8d0-a030c2d8df7a",
   "metadata": {},
   "outputs": [
    {
     "data": {
      "text/plain": [
       "101    80121\n",
       "105    68536\n",
       "107    78703\n",
       "112    93822\n",
       "114    93947\n",
       "115    78373\n",
       "116    62765\n",
       "120    83197\n",
       "dtype: int64"
      ]
     },
     "execution_count": 111,
     "metadata": {},
     "output_type": "execute_result"
    }
   ],
   "source": [
    "new_car[new_car>=60000] "
   ]
  },
  {
   "cell_type": "code",
   "execution_count": 112,
   "id": "736362b6-c977-4d4c-98c1-4e758e88aac9",
   "metadata": {},
   "outputs": [
    {
     "data": {
      "text/plain": [
       "101    64096.8\n",
       "105    54828.8\n",
       "107    62962.4\n",
       "112    75057.6\n",
       "114    75157.6\n",
       "115    62698.4\n",
       "116    50212.0\n",
       "120    66557.6\n",
       "dtype: float64"
      ]
     },
     "execution_count": 112,
     "metadata": {},
     "output_type": "execute_result"
    }
   ],
   "source": [
    "new_car[new_car>=60000]*.8 #a discount of 20% "
   ]
  },
  {
   "cell_type": "code",
   "execution_count": 120,
   "id": "bf6b6187-7a63-4fb7-a029-1fd9bfe5a28c",
   "metadata": {},
   "outputs": [
    {
     "data": {
      "text/html": [
       "<div>\n",
       "<style scoped>\n",
       "    .dataframe tbody tr th:only-of-type {\n",
       "        vertical-align: middle;\n",
       "    }\n",
       "\n",
       "    .dataframe tbody tr th {\n",
       "        vertical-align: top;\n",
       "    }\n",
       "\n",
       "    .dataframe thead th {\n",
       "        text-align: right;\n",
       "    }\n",
       "</style>\n",
       "<table border=\"1\" class=\"dataframe\">\n",
       "  <thead>\n",
       "    <tr style=\"text-align: right;\">\n",
       "      <th></th>\n",
       "      <th>Original price</th>\n",
       "      <th>Discounted price</th>\n",
       "    </tr>\n",
       "  </thead>\n",
       "  <tbody>\n",
       "    <tr>\n",
       "      <th>101</th>\n",
       "      <td>80121</td>\n",
       "      <td>64096.8</td>\n",
       "    </tr>\n",
       "    <tr>\n",
       "      <th>105</th>\n",
       "      <td>68536</td>\n",
       "      <td>54828.8</td>\n",
       "    </tr>\n",
       "    <tr>\n",
       "      <th>107</th>\n",
       "      <td>78703</td>\n",
       "      <td>62962.4</td>\n",
       "    </tr>\n",
       "    <tr>\n",
       "      <th>112</th>\n",
       "      <td>93822</td>\n",
       "      <td>75057.6</td>\n",
       "    </tr>\n",
       "    <tr>\n",
       "      <th>114</th>\n",
       "      <td>93947</td>\n",
       "      <td>75157.6</td>\n",
       "    </tr>\n",
       "    <tr>\n",
       "      <th>115</th>\n",
       "      <td>78373</td>\n",
       "      <td>62698.4</td>\n",
       "    </tr>\n",
       "    <tr>\n",
       "      <th>116</th>\n",
       "      <td>62765</td>\n",
       "      <td>50212.0</td>\n",
       "    </tr>\n",
       "    <tr>\n",
       "      <th>120</th>\n",
       "      <td>83197</td>\n",
       "      <td>66557.6</td>\n",
       "    </tr>\n",
       "  </tbody>\n",
       "</table>\n",
       "</div>"
      ],
      "text/plain": [
       "     Original price  Discounted price\n",
       "101           80121           64096.8\n",
       "105           68536           54828.8\n",
       "107           78703           62962.4\n",
       "112           93822           75057.6\n",
       "114           93947           75157.6\n",
       "115           78373           62698.4\n",
       "116           62765           50212.0\n",
       "120           83197           66557.6"
      ]
     },
     "execution_count": 120,
     "metadata": {},
     "output_type": "execute_result"
    }
   ],
   "source": [
    "\n",
    "A = pd.DataFrame(new_car[new_car >= 60000])\n",
    "A['Discounted price'] = new_car[new_car >= 60000] * 0.8\n",
    "A= A.rename(columns={0:'Original price'}) \n",
    "A"
   ]
  },
  {
   "cell_type": "markdown",
   "id": "10c5506d-61c7-4950-a604-5a6467f1912c",
   "metadata": {},
   "source": [
    "## Task 8\n",
    "\n",
    "The cars priced above $60,000 are now sold due to the 20% discount offered by the dealer. Update the data by deleting the details of the sold cars and print the updated data. Display the count of cars before and after updating the data\n"
   ]
  },
  {
   "cell_type": "code",
   "execution_count": 124,
   "id": "c23a3f21-29b1-438d-b190-d089d34d7d41",
   "metadata": {},
   "outputs": [
    {
     "name": "stdout",
     "output_type": "stream",
     "text": [
      "Count of cars before updating the data:\n",
      " 101    80121\n",
      "102    48483\n",
      "103    37077\n",
      "104    30660\n",
      "105    68536\n",
      "106    52666\n",
      "107    78703\n",
      "108    51036\n",
      "109    55643\n",
      "110    56990\n",
      "111    39967\n",
      "112    93822\n",
      "113    51406\n",
      "114    93947\n",
      "115    78373\n",
      "116    62765\n",
      "117    47536\n",
      "118    40528\n",
      "119    58780\n",
      "120    83197\n",
      "201    34000\n",
      "202    45000\n",
      "203    54000\n",
      "dtype: int64 \n",
      "\n",
      "\n",
      "Count of cars after filtering the data:\n",
      "101    80121\n",
      "105    68536\n",
      "107    78703\n",
      "112    93822\n",
      "114    93947\n",
      "115    78373\n",
      "116    62765\n",
      "120    83197\n",
      "dtype: int64\n",
      "\n",
      "Count of cars after updating the data:\n",
      "102    48483\n",
      "103    37077\n",
      "104    30660\n",
      "106    52666\n",
      "108    51036\n",
      "109    55643\n",
      "110    56990\n",
      "111    39967\n",
      "113    51406\n",
      "117    47536\n",
      "118    40528\n",
      "119    58780\n",
      "201    34000\n",
      "202    45000\n",
      "203    54000\n",
      "dtype: int64\n"
     ]
    }
   ],
   "source": [
    "\n",
    "print('Count of cars before updating the data:\\n', new_car, '\\n')\n",
    "\n",
    "sold_cars = new_car[new_car >= 60000]\n",
    "\n",
    "# count of cars after filtering\n",
    "print(\"\\nCount of cars after filtering the data:\")\n",
    "print(sold_cars)\n",
    "\n",
    "# count of cars after updating the table \n",
    "updated_data = new_car.drop(labels=sold_cars.index)\n",
    "print(\"\\nCount of cars after updating the data:\")\n",
    "print(updated_data)"
   ]
  },
  {
   "cell_type": "code",
   "execution_count": null,
   "id": "9f85f059-b78c-4c09-a354-ea456c5fe673",
   "metadata": {},
   "outputs": [],
   "source": []
  }
 ],
 "metadata": {
  "kernelspec": {
   "display_name": "Python 3 (ipykernel)",
   "language": "python",
   "name": "python3"
  },
  "language_info": {
   "codemirror_mode": {
    "name": "ipython",
    "version": 3
   },
   "file_extension": ".py",
   "mimetype": "text/x-python",
   "name": "python",
   "nbconvert_exporter": "python",
   "pygments_lexer": "ipython3",
   "version": "3.11.7"
  }
 },
 "nbformat": 4,
 "nbformat_minor": 5
}
