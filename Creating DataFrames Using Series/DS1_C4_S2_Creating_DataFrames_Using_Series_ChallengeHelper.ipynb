{
 "cells": [
  {
   "cell_type": "code",
   "execution_count": 1,
   "id": "cd121972",
   "metadata": {},
   "outputs": [],
   "source": [
    "price = [80121, 48483, 37077, 30660, 68536, 52666, 78703, 51036, 55643, 56990, 39967, 93822, 51406, 93947, 78373, 62765, 47536, 40528, 58780, 83197]"
   ]
  },
  {
   "cell_type": "code",
   "execution_count": null,
   "id": "f3776bce",
   "metadata": {},
   "outputs": [],
   "source": []
  }
 ],
 "metadata": {
  "kernelspec": {
   "display_name": "Python 3 (ipykernel)",
   "language": "python",
   "name": "python3"
  },
  "language_info": {
   "codemirror_mode": {
    "name": "ipython",
    "version": 3
   },
   "file_extension": ".py",
   "mimetype": "text/x-python",
   "name": "python",
   "nbconvert_exporter": "python",
   "pygments_lexer": "ipython3",
   "version": "3.9.12"
  }
 },
 "nbformat": 4,
 "nbformat_minor": 5
}
